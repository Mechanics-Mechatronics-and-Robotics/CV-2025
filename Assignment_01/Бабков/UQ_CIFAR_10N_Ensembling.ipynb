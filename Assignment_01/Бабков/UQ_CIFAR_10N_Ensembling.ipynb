{
  "cells": [
    {
      "cell_type": "markdown",
      "metadata": {
        "id": "view-in-github"
      },
      "source": [
        "<a href=\"https://colab.research.google.com/github/Mechanics-Mechatronics-and-Robotics/CV-2025/blob/main/Assignment_01/UQ_CIFAR-10N_Ensembling.ipynb\" target=\"_parent\"><img src=\"https://colab.research.google.com/assets/colab-badge.svg\" alt=\"Open In Colab\"/></a>"
      ]
    },
    {
      "cell_type": "markdown",
      "metadata": {
        "id": "dviRg5xn5mza"
      },
      "source": [
        "#Uncertainty Quantification with CIFAR-10N and Ensembling\n",
        "By *First name* *Second name*.\n",
        "\n",
        "*Month, Day, 2025.*"
      ]
    },
    {
      "cell_type": "markdown",
      "metadata": {
        "id": "fS8QkXU47uNl"
      },
      "source": [
        "## Problem Statement"
      ]
    },
    {
      "cell_type": "markdown",
      "metadata": {
        "id": "EvP6IWSB5s_c"
      },
      "source": [
        "Re-annotated versions of the CIFAR-10 and CIFAR-100 data which contains real-world human annotation errors. We show how these noise patterns deviate from the classically assumed ones and what the new challenges are. The website of CIFAR-N is available at [cifar-10-100n\n",
        "](https://github.com/UCSC-REAL/cifar-10-100n/tree/main) project."
      ]
    },
    {
      "cell_type": "markdown",
      "metadata": {
        "id": "kN9yU_U6766c"
      },
      "source": [
        "# Preparation of simulation models"
      ]
    },
    {
      "cell_type": "markdown",
      "metadata": {
        "id": "9mpwlpoX5TI3"
      },
      "source": [
        "## Import and Install Libraries"
      ]
    },
    {
      "cell_type": "code",
      "execution_count": 63,
      "metadata": {
        "id": "fDHrafErmo43"
      },
      "outputs": [],
      "source": [
        "#Pytorch modules\n",
        "import os\n",
        "os.environ[\"CUBLAS_WORKSPACE_CONFIG\"] = \":4096:8\"  # или \":16:8\"\n",
        "import torch\n",
        "from torch import nn\n",
        "from torch.nn import functional as F\n",
        "from torch.utils.data import DataLoader, random_split, TensorDataset\n",
        "from torchvision.datasets import CIFAR10\n",
        "from torchvision import datasets, transforms, models\n",
        "#scipy\n",
        "from scipy.stats import mode\n",
        "#sklearn\n",
        "from sklearn.preprocessing import StandardScaler\n",
        "from sklearn.metrics import confusion_matrix\n",
        "from sklearn.metrics import accuracy_score\n",
        "#Numpy\n",
        "import numpy as np\n",
        "#Pandas\n",
        "import pandas as pd\n",
        "#Lightning & logging\n",
        "import pytorch_lightning as pl\n",
        "from pytorch_lightning import Trainer\n",
        "from pytorch_lightning.callbacks import ModelCheckpoint\n",
        "#Data observation\n",
        "#import os\n",
        "import sys\n",
        "import pickle\n",
        "import requests\n",
        "from pathlib import Path\n",
        "#Plotting\n",
        "import matplotlib.pyplot as plt\n",
        "import seaborn as sns\n",
        "#Logging\n",
        "from clearml import Task"
      ]
    },
    {
      "cell_type": "markdown",
      "metadata": {
        "id": "ealb85K93wDT"
      },
      "source": [
        "## Set the Models"
      ]
    },
    {
      "cell_type": "markdown",
      "metadata": {
        "id": "GHIKBWI93-zD"
      },
      "source": [
        "### Simulation Settings"
      ]
    },
    {
      "cell_type": "markdown",
      "metadata": {
        "id": "kiYPAzh54gjM"
      },
      "source": [
        "Check the current directory"
      ]
    },
    {
      "cell_type": "code",
      "execution_count": 64,
      "metadata": {
        "colab": {
          "base_uri": "https://localhost:8080/",
          "height": 36
        },
        "id": "phE7U1vu31BR",
        "outputId": "26604228-6e67-404f-a54a-f55fcd32292c"
      },
      "outputs": [
        {
          "data": {
            "text/plain": [
              "'c:\\\\Users\\\\dnbabkov\\\\Desktop\\\\Innopolis\\\\Computer Vision\\\\ДЗ'"
            ]
          },
          "execution_count": 64,
          "metadata": {},
          "output_type": "execute_result"
        }
      ],
      "source": [
        "os.getcwd() #returns the current working directory"
      ]
    },
    {
      "cell_type": "code",
      "execution_count": 65,
      "metadata": {
        "colab": {
          "base_uri": "https://localhost:8080/"
        },
        "id": "7EVwTLDiNYyc",
        "outputId": "c65ae22a-ba98-4b4d-dea7-e0249dbb12b4"
      },
      "outputs": [
        {
          "name": "stdout",
          "output_type": "stream",
          "text": [
            "CHECKPOINT_PATH: saved_models/\n"
          ]
        }
      ],
      "source": [
        "# Path to the folder where the pretrained models are saved\n",
        "CHECKPOINT_PATH = os.environ.get(\"PATH_CHECKPOINT\", \"saved_models/\")\n",
        "print(f'CHECKPOINT_PATH: {CHECKPOINT_PATH}')\n",
        "\n",
        "os.makedirs(CHECKPOINT_PATH, exist_ok=True)"
      ]
    },
    {
      "cell_type": "markdown",
      "metadata": {
        "id": "3WK77wcO6sfb"
      },
      "source": [
        "Set the reproducibility options"
      ]
    },
    {
      "cell_type": "code",
      "execution_count": 66,
      "metadata": {
        "colab": {
          "base_uri": "https://localhost:8080/"
        },
        "id": "2YX7JeP93-TZ",
        "outputId": "eaa8e853-8b71-4282-ea8b-a6fecbed88ec"
      },
      "outputs": [
        {
          "name": "stderr",
          "output_type": "stream",
          "text": [
            "Seed set to 42\n"
          ]
        }
      ],
      "source": [
        "# Function for setting the seed to implement parallel tests\n",
        "SEEDS = [42, 0, 17, 9, 3, 16, 2]\n",
        "SEED = 42 # random seed by default\n",
        "pl.seed_everything(SEED)\n",
        "\n",
        "# Determine the device (GPU if available, otherwise CPU)\n",
        "device = torch.device(\"cuda\" if torch.cuda.is_available() else \"cpu\")\n",
        "\n",
        "# Prioritizes speed but may reduce precision\n",
        "torch.set_float32_matmul_precision('high')\n",
        "\n",
        "# # Ensure that all operations are deterministic on GPU (if used) for reproducibility\n",
        "torch.backends.cudnn.deterministic = True\n",
        "torch.backends.cudnn.benchmark = False\n",
        "torch.use_deterministic_algorithms(True)\n",
        "torch.manual_seed(SEED)\n",
        "np.random.seed(SEED)"
      ]
    },
    {
      "cell_type": "markdown",
      "metadata": {
        "id": "_7ULmzow4jSg"
      },
      "source": [
        "### Logging"
      ]
    },
    {
      "cell_type": "markdown",
      "metadata": {
        "id": "C97DLT0gK37A"
      },
      "source": [
        "To configure ClearML in your Colab environment, follow these steps:\n",
        "\n",
        "---\n",
        "\n",
        "*Step 1: Create a ClearML Account*\n",
        "1. Go to the [ClearML website](https://clear.ml/).\n",
        "2. Sign up for a free account if you don’t already have one.\n",
        "3. Once registered, log in to your ClearML account.\n",
        "\n",
        "---\n",
        "\n",
        "*Step 2: Get Your ClearML Credentials*\n",
        "1. After logging in, navigate to the **Settings** page (click on your profile icon in the top-right corner and select **Settings**).\n",
        "2. Under the **Workspace** section, find your **+ Create new credentials**.\n",
        "3. Copy these credentials for a Jupiter notebook into the code cell below.\n",
        "\n",
        "---\n",
        "\n",
        "*Step 3: Accessing the ClearML Dashboard*\n",
        "1. Go to your ClearML dashboard (https://app.clear.ml).\n",
        "2. Navigate to the **Projects** section to see your experiments.\n",
        "3. Click on the experiment (e.g., `Lab_1`) to view detailed metrics, logs, and artifacts.\n",
        "\n",
        "---"
      ]
    },
    {
      "cell_type": "code",
      "execution_count": 67,
      "metadata": {
        "colab": {
          "base_uri": "https://localhost:8080/"
        },
        "id": "lTXMGNya32_3",
        "outputId": "2bd1d4e0-9758-4f1f-aa6c-c400c15fe1ce"
      },
      "outputs": [
        {
          "name": "stdout",
          "output_type": "stream",
          "text": [
            "env: CLEARML_WEB_HOST=https://app.clear.ml/\n",
            "env: CLEARML_API_HOST=https://api.clear.ml\n",
            "env: CLEARML_FILES_HOST=https://files.clear.ml\n",
            "env: CLEARML_API_ACCESS_KEY=A1NZB9CIZ8FYIZLG94T2X63SY61QIT\n",
            "env: CLEARML_API_SECRET_KEY=ykweemcSZp5uQWJDpygyyk_xrO-vYxk14Plgn9Hk7MENAiBMesHlu0OG_7i7UeBRH94\n"
          ]
        }
      ],
      "source": [
        "#Enter your code here to implement Step 2 of the logging instruction as it is shown below\n",
        "%env CLEARML_WEB_HOST=https://app.clear.ml/\n",
        "%env CLEARML_API_HOST=https://api.clear.ml\n",
        "%env CLEARML_FILES_HOST=https://files.clear.ml\n",
        "%env CLEARML_API_ACCESS_KEY=A1NZB9CIZ8FYIZLG94T2X63SY61QIT\n",
        "%env CLEARML_API_SECRET_KEY=ykweemcSZp5uQWJDpygyyk_xrO-vYxk14Plgn9Hk7MENAiBMesHlu0OG_7i7UeBRH94"
      ]
    },
    {
      "cell_type": "markdown",
      "metadata": {
        "id": "BujHK4sw7cA7"
      },
      "source": [
        "### Dataset"
      ]
    },
    {
      "cell_type": "markdown",
      "metadata": {
        "id": "Wb0uJtxz-E--"
      },
      "source": [
        "Summary"
      ]
    },
    {
      "cell_type": "code",
      "execution_count": 68,
      "metadata": {
        "id": "hWRDBJbO7k_u"
      },
      "outputs": [],
      "source": [
        "DATASET = 'CIFAR10N' # dataset with the real-world noise\n",
        "# Can be 'clean_label', 'worse_label', 'aggre_label', 'random_label1', 'random_label2', 'random_label3'\n",
        "NOISE_TYPE = 'clean_label'\n",
        "LS = 0.4\n",
        "\n",
        "NS = {\n",
        "    'train': 45000,\n",
        "    'val': 5000,\n",
        "    'test': 10000\n",
        "} # for MNIST\n",
        "\n",
        "SIZE = 32 #image size\n",
        "NUM_CLASSES = 10\n",
        "CLASS_NAMES = ['plane', 'car', 'bird', 'cat',\n",
        "               'deer', 'dog', 'frog', 'horse', 'ship', 'truck']"
      ]
    },
    {
      "cell_type": "markdown",
      "metadata": {
        "id": "qP6TSQ-Z-Hxd"
      },
      "source": [
        "Normalization parameters"
      ]
    },
    {
      "cell_type": "code",
      "execution_count": 69,
      "metadata": {
        "id": "Oh-UxEQ3-Le3"
      },
      "outputs": [],
      "source": [
        "#For the MNIST dataset\n",
        "MEAN = np.array([0.491,0.482,0.447])\n",
        "STD  = np.array([0.247,0.243,0.261])"
      ]
    },
    {
      "cell_type": "markdown",
      "metadata": {
        "id": "StCJNi9PDVZK"
      },
      "source": [
        "Transforms"
      ]
    },
    {
      "cell_type": "markdown",
      "metadata": {
        "id": "GwaBDKEvD5ya"
      },
      "source": [
        "### Collect parameters"
      ]
    },
    {
      "cell_type": "code",
      "execution_count": 70,
      "metadata": {
        "id": "NSyUzYCSD0v3"
      },
      "outputs": [],
      "source": [
        "#Model parameters\n",
        "LOSS_FUN = 'B' # 'CE','CELoss'(custom), 'N', 'B', etc.\n",
        "ARCHITECTURE = 'ResNet50' # 'CNN, 'ResNet50', 'ViT', etc.\n",
        "\n",
        "#Collect the parameters (hyperparams and others)\n",
        "hparams = {\n",
        "    \"seed\": SEED,\n",
        "    \"lr\": 0.001,\n",
        "    'weight_decay': 0.0,\n",
        "    \"dropout\": 0.0,\n",
        "    \"bs\": 128,\n",
        "    \"num_workers\": 0, #set 2 in Colab, or 0 in InnoDataHub\n",
        "    \"num_epochs\": 20,\n",
        "    \"criterion\": LOSS_FUN,\n",
        "    \"architecture\": ARCHITECTURE,\n",
        "    \"label_smoothing\": LS,\n",
        "    \"num_samples\": NS,\n",
        "    \"im_size\": SIZE,\n",
        "    \"mean\": np.array([0.4914, 0.4822, 0.4465]),\n",
        "    \"std\": np.array([0.2470, 0.2435, 0.2616]),\n",
        "    'randResCrop': {'size': (SIZE, SIZE), 'scale': (0.8, 1.0), 'ratio': (0.9, 1.1)},\n",
        "    \"n_classes\": NUM_CLASSES,\n",
        "    \"noise_path\": './data/CIFAR-10_human.pt',\n",
        "    'freeze': True,\n",
        "    \"noise_type\": NOISE_TYPE  # Can be 'clean_label', 'worse_label', 'aggre_label', etc.\n",
        "}\n",
        "\n",
        "#Visualization\n",
        "vis_params = {\n",
        "    'fig_size': 5,\n",
        "    'num_samples': 5,\n",
        "    'num_bins': 50,\n",
        "}"
      ]
    },
    {
      "cell_type": "markdown",
      "metadata": {
        "id": "OQsu5FcbFfwx"
      },
      "source": [
        "## Functions"
      ]
    },
    {
      "cell_type": "markdown",
      "metadata": {
        "id": "ZAOMnXlqFofC"
      },
      "source": [
        "### Lightning"
      ]
    },
    {
      "cell_type": "markdown",
      "metadata": {
        "id": "2N2vslXcUvGT"
      },
      "source": [
        "Data module"
      ]
    },
    {
      "cell_type": "code",
      "execution_count": 71,
      "metadata": {
        "id": "l4LT-NyRgAWZ"
      },
      "outputs": [],
      "source": [
        "def download_file(url, save_path):\n",
        "    \"\"\"Download a file from a URL and save it to the specified path.\"\"\"\n",
        "    response = requests.get(url, stream=True)\n",
        "    if response.status_code == 200:\n",
        "        os.makedirs(os.path.dirname(save_path), exist_ok=True)  # Ensure directory exists\n",
        "        with open(save_path, 'wb') as f:\n",
        "            for chunk in response.iter_content(chunk_size=8192):\n",
        "                f.write(chunk)\n",
        "        print(f\"File downloaded and saved to {save_path}\")\n",
        "    else:\n",
        "        raise Exception(f\"Failed to download file from {url}. Status code: {response.status_code}\")"
      ]
    },
    {
      "cell_type": "code",
      "execution_count": 72,
      "metadata": {
        "id": "_3lxFLivgJIn"
      },
      "outputs": [],
      "source": [
        "class CIFAR10(datasets.CIFAR10):\n",
        "    \"\"\"CIFAR10 dataset with noisy labels.\"\"\"\n",
        "    def __init__(self, root, train=True, transform=None, target_transform=None,\n",
        "                 download=False, noise_type=None, noise_path=None, is_human=True):\n",
        "        super().__init__(root, train=train, transform=transform,\n",
        "                         target_transform=target_transform, download=download)\n",
        "        self.noise_type = noise_type\n",
        "        self.noise_path = noise_path\n",
        "        self.is_human = is_human\n",
        "\n",
        "        if self.train and self.noise_type is not None:\n",
        "            self.load_noisy_labels()\n",
        "\n",
        "    def load_noisy_labels(self):\n",
        "        noise_file = torch.load(self.noise_path)\n",
        "        if isinstance(noise_file, dict):\n",
        "            if \"clean_label\" in noise_file.keys():\n",
        "                clean_label = torch.tensor(noise_file['clean_label'])\n",
        "                assert torch.sum(torch.tensor(self.targets) - clean_label) == 0\n",
        "                print(f'Loaded {self.noise_type} from {self.noise_path}.')\n",
        "                print(f'The overall noise rate is {1 - np.mean(clean_label.numpy() == noise_file[self.noise_type])}')\n",
        "            self.noisy_labels = noise_file[self.noise_type].reshape(-1)\n",
        "        else:\n",
        "            raise Exception('Input Error')\n",
        "\n",
        "    def __getitem__(self, index):\n",
        "        img, target = super().__getitem__(index)\n",
        "        if self.train and self.noise_type is not None:\n",
        "            target = self.noisy_labels[index]\n",
        "        return img, target, index"
      ]
    },
    {
      "cell_type": "code",
      "execution_count": 73,
      "metadata": {
        "id": "7WcQVIXnfiX3"
      },
      "outputs": [],
      "source": [
        "class CIFAR10DataModule(pl.LightningDataModule):\n",
        "    def __init__(self, params):\n",
        "        super().__init__()\n",
        "        self.seed = params['seed']\n",
        "        self.batch_size = params['bs']\n",
        "        self.num_workers = params['num_workers']\n",
        "        self.mean = params['mean']\n",
        "        self.std = params['std']\n",
        "        self.ns = params['num_samples']\n",
        "        self.rand_res_crop = params['randResCrop']\n",
        "        self.noise_path = params.get('noise_path', './data/CIFAR-10_human.pt')\n",
        "        self.noise_type = params.get('noise_type', 'worse_label')  # Default to 'worse_label'\n",
        "\n",
        "        # Ensure the data directory exists\n",
        "        os.makedirs(os.path.dirname(self.noise_path), exist_ok=True)\n",
        "\n",
        "        # Download the CIFAR-10_human.pt file if it doesn't exist\n",
        "        if not os.path.exists(self.noise_path):\n",
        "            print(f\"Downloading CIFAR-10_human.pt from GitHub...\")\n",
        "            download_file(\n",
        "                url=\"https://github.com/UCSC-REAL/cifar-10-100n/raw/main/data/CIFAR-10_human.pt\",\n",
        "                save_path=self.noise_path\n",
        "            )\n",
        "\n",
        "        self.transform = transforms.Compose([\n",
        "            transforms.RandomResizedCrop(size=self.rand_res_crop['size'],\n",
        "                                         scale=self.rand_res_crop['scale'],\n",
        "                                         ratio=self.rand_res_crop['ratio']),\n",
        "            transforms.ToTensor(),\n",
        "            transforms.Normalize(self.mean, self.std)\n",
        "        ])\n",
        "\n",
        "    def prepare_data(self):\n",
        "        # Download CIFAR-10 dataset\n",
        "        datasets.CIFAR10(root='./data', train=True, download=True)\n",
        "        datasets.CIFAR10(root='./data', train=False, download=True)\n",
        "\n",
        "    def setup(self, stage=None):\n",
        "        # Load noisy labels\n",
        "        noise_file = torch.load(self.noise_path)\n",
        "        clean_label = noise_file['clean_label']\n",
        "        noisy_label = noise_file[self.noise_type]\n",
        "\n",
        "        # Split dataset into train and validation sets\n",
        "        cifar10_full = CIFAR10(root='./data', train=True, transform=self.transform,\n",
        "                               noise_type=self.noise_type, noise_path=self.noise_path, is_human=True, download=True)\n",
        "        pl.seed_everything(self.seed)\n",
        "        self.cifar10_train, self.cifar10_val = random_split(cifar10_full,\n",
        "                                                            [self.ns['train'],\n",
        "                                                             self.ns['val']])\n",
        "        self.cifar10_test = CIFAR10(root='./data', train=False, transform=self.transform)\n",
        "\n",
        "    def train_dataloader(self):\n",
        "        return DataLoader(self.cifar10_train, batch_size=self.batch_size,\n",
        "                          num_workers=self.num_workers, shuffle=True)\n",
        "\n",
        "    def val_dataloader(self):\n",
        "        return DataLoader(self.cifar10_val, batch_size=self.batch_size,\n",
        "                          num_workers=self.num_workers)\n",
        "\n",
        "    def test_dataloader(self):\n",
        "        return DataLoader(self.cifar10_test, batch_size=self.batch_size,\n",
        "                          shuffle=False)"
      ]
    },
    {
      "cell_type": "markdown",
      "metadata": {
        "id": "JBWSuYApFu7X"
      },
      "source": [
        "Training module"
      ]
    },
    {
      "cell_type": "code",
      "execution_count": 74,
      "metadata": {
        "id": "g-uYzVgj2f-6"
      },
      "outputs": [],
      "source": [
        "class train_model(pl.LightningModule):\n",
        "    def __init__(self, model=None, loss=None, hparams=hparams):\n",
        "        super().__init__()\n",
        "        self.save_hyperparameters(hparams)\n",
        "        self.model = model\n",
        "        self.loss_fn = loss\n",
        "        self.nc = hparams['n_classes']\n",
        "        self.lr = hparams['lr']\n",
        "        self.wd = hparams['weight_decay']\n",
        "\n",
        "    def forward(self, x):\n",
        "        return self.model(x)\n",
        "\n",
        "    def training_step(self, batch, batch_idx):\n",
        "        x, y, _ = batch  # Unpack batch (ignore indices for now)\n",
        "        logits = self(x)\n",
        "        loss = self.loss_fn(logits, y)\n",
        "\n",
        "        # Log training loss and accuracy\n",
        "        # preds = torch.argmax(logits[:, :self.nc], dim=1)\n",
        "        # acc = (preds == y).float().mean()\n",
        "        self.log('train_loss', loss, on_step=True, on_epoch=True, prog_bar=True)\n",
        "        # self.log('train_acc', acc, on_step=True, on_epoch=True, prog_bar=True)\n",
        "        return loss\n",
        "\n",
        "    def validation_step(self, batch, batch_idx):\n",
        "        x, y, _ = batch  # Unpack batch (ignore indices for now)\n",
        "        logits = self(x)\n",
        "        loss = self.loss_fn(logits, y)\n",
        "\n",
        "        # Log validation loss and accuracy\n",
        "        # preds = torch.argmax(logits[:, :self.nc], dim=1)\n",
        "        # acc = (preds == y).float().mean()\n",
        "        self.log('val_loss', loss, on_step=True, on_epoch=True, prog_bar=True)\n",
        "        # self.log('val_acc', acc, on_step=True, on_epoch=True, prog_bar=True)\n",
        "        return loss\n",
        "\n",
        "    def test_step(self, batch, batch_idx):\n",
        "        x, y, _ = batch  # Unpack batch (ignore indices for now)\n",
        "        logits = self(x)\n",
        "        loss = self.loss_fn(logits, y)\n",
        "\n",
        "        # Log test loss and accuracy\n",
        "        preds = torch.argmax(logits[:, :self.nc], dim=1)\n",
        "        acc = (preds == y).float().mean()\n",
        "        self.log('test_loss', loss, on_step=True, on_epoch=True, prog_bar=True)\n",
        "        self.log('test_acc', acc, on_step=True, on_epoch=True, prog_bar=True)\n",
        "        return {'loss': loss, 'preds': preds, 'y': y}\n",
        "\n",
        "    def configure_optimizers(self):\n",
        "        optimizer = torch.optim.Adam(self.parameters(), lr=self.lr, weight_decay=self.wd)\n",
        "\n",
        "        # Optionally, add a learning rate scheduler\n",
        "        scheduler = torch.optim.lr_scheduler.StepLR(optimizer, step_size=10, gamma=1.0)\n",
        "        return [optimizer], [scheduler]"
      ]
    },
    {
      "cell_type": "markdown",
      "metadata": {
        "id": "SpGtoJicGCJC"
      },
      "source": [
        "### Models"
      ]
    },
    {
      "cell_type": "markdown",
      "metadata": {
        "id": "aA10MARCuTL_"
      },
      "source": [
        "CNN from paper by [Xia](https://arxiv.org/abs/2106.00445)"
      ]
    },
    {
      "cell_type": "code",
      "execution_count": 75,
      "metadata": {
        "id": "oA84H5z_t4oY"
      },
      "outputs": [],
      "source": [
        "def call_bn(bn, x):\n",
        "    return bn(x)\n",
        "\n",
        "class CNN(nn.Module):\n",
        "    def __init__(self, input_channel=3, n_outputs=10, dropout_rate=0.25, top_bn=False):\n",
        "        self.dropout_rate = dropout_rate\n",
        "        self.top_bn = top_bn\n",
        "        super(CNN, self).__init__()\n",
        "        self.c1=nn.Conv2d(input_channel,128,kernel_size=3,stride=1, padding=1)\n",
        "        self.c2=nn.Conv2d(128,128,kernel_size=3,stride=1, padding=1)\n",
        "        self.c3=nn.Conv2d(128,128,kernel_size=3,stride=1, padding=1)\n",
        "        self.c4=nn.Conv2d(128,256,kernel_size=3,stride=1, padding=1)\n",
        "        self.c5=nn.Conv2d(256,256,kernel_size=3,stride=1, padding=1)\n",
        "        self.c6=nn.Conv2d(256,256,kernel_size=3,stride=1, padding=1)\n",
        "        self.c7=nn.Conv2d(256,512,kernel_size=3,stride=1, padding=0)\n",
        "        self.c8=nn.Conv2d(512,256,kernel_size=3,stride=1, padding=0)\n",
        "        self.c9=nn.Conv2d(256,128,kernel_size=3,stride=1, padding=0)\n",
        "        self.l_c1=nn.Linear(128,n_outputs)\n",
        "        self.bn1=nn.BatchNorm2d(128)\n",
        "        self.bn2=nn.BatchNorm2d(128)\n",
        "        self.bn3=nn.BatchNorm2d(128)\n",
        "        self.bn4=nn.BatchNorm2d(256)\n",
        "        self.bn5=nn.BatchNorm2d(256)\n",
        "        self.bn6=nn.BatchNorm2d(256)\n",
        "        self.bn7=nn.BatchNorm2d(512)\n",
        "        self.bn8=nn.BatchNorm2d(256)\n",
        "        self.bn9=nn.BatchNorm2d(128)\n",
        "\n",
        "    def forward(self, x,):\n",
        "        h=x\n",
        "        h=self.c1(h)\n",
        "        h=F.leaky_relu(call_bn(self.bn1, h), negative_slope=0.01)\n",
        "        h=self.c2(h)\n",
        "        h=F.leaky_relu(call_bn(self.bn2, h), negative_slope=0.01)\n",
        "        h=self.c3(h)\n",
        "        h=F.leaky_relu(call_bn(self.bn3, h), negative_slope=0.01)\n",
        "        h=F.max_pool2d(h, kernel_size=2, stride=2)\n",
        "        h=F.dropout2d(h, p=self.dropout_rate)\n",
        "\n",
        "        h=self.c4(h)\n",
        "        h=F.leaky_relu(call_bn(self.bn4, h), negative_slope=0.01)\n",
        "        h=self.c5(h)\n",
        "        h=F.leaky_relu(call_bn(self.bn5, h), negative_slope=0.01)\n",
        "        h=self.c6(h)\n",
        "        h=F.leaky_relu(call_bn(self.bn6, h), negative_slope=0.01)\n",
        "        h=F.max_pool2d(h, kernel_size=2, stride=2)\n",
        "        h=F.dropout2d(h, p=self.dropout_rate)\n",
        "\n",
        "        h=self.c7(h)\n",
        "        h=F.leaky_relu(call_bn(self.bn7, h), negative_slope=0.01)\n",
        "        h=self.c8(h)\n",
        "        h=F.leaky_relu(call_bn(self.bn8, h), negative_slope=0.01)\n",
        "        h=self.c9(h)\n",
        "        h=F.leaky_relu(call_bn(self.bn9, h), negative_slope=0.01)\n",
        "        h=F.avg_pool2d(h, kernel_size=h.data.shape[2])\n",
        "\n",
        "        h = h.view(h.size(0), h.size(1))\n",
        "        logit=self.l_c1(h)\n",
        "        if self.top_bn:\n",
        "            logit=call_bn(self.bn_c1, logit)\n",
        "        return logit"
      ]
    },
    {
      "cell_type": "markdown",
      "metadata": {
        "id": "vOCLuzMRdgrK"
      },
      "source": [
        "ResNet50"
      ]
    },
    {
      "cell_type": "code",
      "execution_count": 76,
      "metadata": {
        "id": "jzeV5ga6df-q"
      },
      "outputs": [],
      "source": [
        "class ResNet50(nn.Module):\n",
        "    def __init__(self, n_outputs, freeze=False):\n",
        "        \"\"\"\n",
        "        Args:\n",
        "            n_outputs (int): Number of output classes.\n",
        "            freeze (bool): If True, freeze all layers except the head.\n",
        "        \"\"\"\n",
        "        super(ResNet50, self).__init__()\n",
        "        self.n_outputs = n_outputs\n",
        "        self.freeze = freeze\n",
        "\n",
        "        # Load the pre-trained ResNet50 model\n",
        "        self.resnet50 = models.resnet50(pretrained=True)\n",
        "\n",
        "        # Modify the final layer to match the number of outputs\n",
        "        self.resnet50.fc = nn.Linear(self.resnet50.fc.in_features, n_outputs)\n",
        "\n",
        "        # Freeze all layers except the head if freeze=True\n",
        "        if self.freeze:\n",
        "            self._freeze_layers()\n",
        "\n",
        "    def _freeze_layers(self):\n",
        "        \"\"\"\n",
        "        Freeze all layers except the head.\n",
        "        \"\"\"\n",
        "        # Freeze all parameters in the model\n",
        "        for param in self.resnet50.parameters():\n",
        "            param.requires_grad = False\n",
        "\n",
        "        # Unfreeze the final classification layer (head)\n",
        "        for param in self.resnet50.fc.parameters():\n",
        "            param.requires_grad = True\n",
        "\n",
        "    def forward(self, x):\n",
        "        return self.resnet50(x)\n",
        "\n",
        "def count_trainable_parameters(model):\n",
        "    return sum(p.numel() for p in model.parameters() if p.requires_grad)\n",
        "\n",
        "# # Example usage\n",
        "# model_frozen = ResNet50(n_outputs=10, freeze=True)\n",
        "# print(f\"Trainable parameters (freeze=True): {count_trainable_parameters(model_frozen)}\")\n",
        "\n",
        "# model_unfrozen = ResNet50(n_outputs=10, freeze=False)\n",
        "# print(f\"Trainable parameters (freeze=False): {count_trainable_parameters(model_unfrozen)}\")"
      ]
    },
    {
      "cell_type": "markdown",
      "metadata": {
        "id": "eAY6gv8RdffZ"
      },
      "source": [
        "ViT"
      ]
    },
    {
      "cell_type": "code",
      "execution_count": 77,
      "metadata": {
        "id": "EC11nnWZdfF4"
      },
      "outputs": [],
      "source": [
        "class ViT(nn.Module):\n",
        "    def __init__(self, n_outputs, freeze=False):\n",
        "        \"\"\"\n",
        "        Args:\n",
        "            n_outputs (int): Number of output classes.\n",
        "            freeze (bool): If True, freeze all layers except the head.\n",
        "        \"\"\"\n",
        "        super(ViT, self).__init__()\n",
        "        self.n_outputs = n_outputs\n",
        "        self.freeze = freeze\n",
        "\n",
        "        # Load the pre-trained ViT model\n",
        "        self.vit = models.vit_b_16(pretrained=True)\n",
        "\n",
        "        # Modify the final layer to match the number of outputs\n",
        "        self.vit.heads.head = nn.Linear(self.vit.heads.head.in_features, n_outputs)\n",
        "\n",
        "        # Freeze all layers except the head if freeze=True\n",
        "        if self.freeze:\n",
        "            self._freeze_layers()\n",
        "\n",
        "    def _freeze_layers(self):\n",
        "        \"\"\"\n",
        "        Freeze all layers except the head.\n",
        "        \"\"\"\n",
        "        # Freeze all parameters in the model\n",
        "        for param in self.vit.parameters():\n",
        "            param.requires_grad = False\n",
        "\n",
        "        # Unfreeze the head (final classification layer)\n",
        "        for param in self.vit.heads.head.parameters():\n",
        "            param.requires_grad = True\n",
        "\n",
        "    def forward(self, x):\n",
        "        return self.vit(x)\n",
        "\n",
        "def count_trainable_parameters(model):\n",
        "    return sum(p.numel() for p in model.parameters() if p.requires_grad)\n",
        "\n",
        "# # Example usage\n",
        "# model_frozen = ViT(n_outputs=10, freeze=True)\n",
        "# print(f\"Trainable parameters (freeze=True): {count_trainable_parameters(model_frozen)}\")\n",
        "\n",
        "# model_unfrozen = ViT(n_outputs=10, freeze=False)\n",
        "# print(f\"Trainable parameters (freeze=False): {count_trainable_parameters(model_unfrozen)}\")\n",
        "\n",
        "# class ViT(nn.Module):\n",
        "#     def __init__(self, n_outputs):\n",
        "#         super(ViT, self).__init__()\n",
        "#         self.n_outputs = n_outputs\n",
        "#         # Load the pre-trained ViT model\n",
        "#         self.vit = models.vit_b_16(pretrained=True)\n",
        "\n",
        "#         # Modify the final layer to match the number of outputs\n",
        "#         self.vit.heads.head = nn.Linear(self.vit.heads.head.in_features, n_outputs)\n",
        "\n",
        "#     def forward(self, x):\n",
        "#         return self.vit(x)"
      ]
    },
    {
      "cell_type": "markdown",
      "metadata": {
        "id": "rHm8wnbnGEnA"
      },
      "source": [
        "### Loss functions"
      ]
    },
    {
      "cell_type": "markdown",
      "metadata": {
        "id": "8z05aQ7cQTm0"
      },
      "source": [
        "Create a loss function class, or use a standart one."
      ]
    },
    {
      "cell_type": "code",
      "execution_count": 78,
      "metadata": {
        "id": "8auVRUCKGEG2"
      },
      "outputs": [],
      "source": [
        "# Cross entropy loss made from scratch (just in case)\n",
        "class CELoss(nn.Module):\n",
        "    def __init__(self, params=hparams):\n",
        "        super(CELoss, self).__init__()\n",
        "        self.smoothing = params.get('label_smoothing', 0.0)  # Default smoothing value\n",
        "        self.num_classes = params.get('n_classes', 10)\n",
        "        self.inv_smoothing = 1.0 - self.smoothing  # Probability for the correct class\n",
        "\n",
        "    def forward(self, x, y):\n",
        "        \"\"\"\n",
        "        x: Model output (logits)\n",
        "            - Shape: (batch_size, num_classes)\n",
        "        y: Labels\n",
        "            - Shape: (batch_size,)\n",
        "        \"\"\"\n",
        "        # Apply label smoothing to the one-hot encoded labels\n",
        "        with torch.no_grad():\n",
        "            yoh = torch.zeros_like(x)  # Create a one-hot encoded version of y\n",
        "            yoh.fill_(self.smoothing / (self.num_classes - 1))  # Fill with smoothed values\n",
        "            yoh.scatter_(1, y.unsqueeze(1), self.inv_smoothing)  # Set correct class to 1 - smoothing\n",
        "\n",
        "        # Compute the cross-entropy loss between logits and smoothed labels\n",
        "        log_probs = F.log_softmax(x, dim=1)  # Log probabilities\n",
        "        loss = -(yoh * log_probs).sum(dim=1).mean()  # Sum over classes and mean over batch\n",
        "\n",
        "        return loss"
      ]
    },
    {
      "cell_type": "code",
      "execution_count": 79,
      "metadata": {
        "id": "An6Q9DUNK3SE"
      },
      "outputs": [],
      "source": [
        "class NLoss(nn.Module):\n",
        "    def __init__(self, params=hparams):\n",
        "        super(NLoss, self).__init__()\n",
        "        self.smoothing =   params.get('label_smoothing', 0.0)\n",
        "        self.num_classes = params.get('n_classes', 10)\n",
        "        self.inv_smoothing = 1.0 - self.smoothing  # Probability for the correct class\n",
        "\n",
        "    def forward(self, x, y):\n",
        "        \"\"\"\n",
        "        x: Model output (logits + log variance)\n",
        "            - x[:, :self.num_classes]: Logits for class probabilities (h)\n",
        "            - x[:, self.num_classes:]: Logarithmic variance (s)\n",
        "        y: Labels\n",
        "        \"\"\"\n",
        "        # Split the model output into predictions (h) and log variance (s)\n",
        "        logits = x[:, :self.num_classes]  # Predictions (h)\n",
        "        log_var = x[:, self.num_classes:]  # Logarithmic variance (s)\n",
        "\n",
        "        # Apply label smoothing to the one-hot encoded labels\n",
        "        with torch.no_grad():\n",
        "            yoh = torch.zeros_like(logits)\n",
        "            yoh.fill_(self.smoothing / (self.num_classes - 1))\n",
        "            yoh.scatter_(1, y.data.unsqueeze(1), self.inv_smoothing)\n",
        "\n",
        "        # Compute the squared differences between predictions and smoothed labels\n",
        "        squared_diff = torch.pow(yoh - logits, 2)  # (y_k - h_k)^2\n",
        "\n",
        "        # Compute the exponential of the negative log variance (e^{-s})\n",
        "        exp_neg_log_var = torch.exp(-log_var)\n",
        "\n",
        "        # Compute the first term of the loss: e^{-s} * sum((y_k - h_k)^2)\n",
        "        term1 = exp_neg_log_var * squared_diff.sum(dim=1)\n",
        "\n",
        "        # Compute the second term of the loss: N * s\n",
        "        term2 = self.num_classes * log_var\n",
        "\n",
        "        # Combine the terms and compute the mean over the batch\n",
        "        loss = (term1 + term2).mean()\n",
        "\n",
        "        return loss"
      ]
    },
    {
      "cell_type": "code",
      "execution_count": 80,
      "metadata": {
        "id": "99a0Eh3AK5wT"
      },
      "outputs": [],
      "source": [
        "class BLoss(nn.Module):\n",
        "    def __init__(self, params=hparams):\n",
        "        super(BLoss, self).__init__()\n",
        "        self.smoothing =   params.get('label_smoothing', 0.0)\n",
        "        self.num_classes = params.get('n_classes', 10)\n",
        "        self.inv_smoothing = 1.0 - self.smoothing  # Probability for the correct class\n",
        "\n",
        "\n",
        "    def forward(self, x, y):\n",
        "        # Extract certainty and probabilities from the model output\n",
        "        certainty = torch.sigmoid(x[:, self.num_classes:])  # Certainty values\n",
        "        logits = x[:, :self.num_classes]  # Logits for class probabilities\n",
        "        prob = F.softmax(logits, dim=1)  # Softmax probabilities\n",
        "\n",
        "        # Compute cosine similarity between predictions and labels\n",
        "        cos = nn.CosineSimilarity(dim=1)\n",
        "\n",
        "        # Apply label smoothing to the one-hot encoded labels\n",
        "        with torch.no_grad():\n",
        "            yoh = torch.zeros_like(logits)\n",
        "            yoh.fill_(self.smoothing / (self.num_classes - 1))\n",
        "            yoh.scatter_(1, y.data.unsqueeze(1), self.inv_smoothing)\n",
        "\n",
        "\n",
        "        # Compute the terms of the loss\n",
        "        cosyh = cos(yoh, prob)\n",
        "        delta = yoh * prob  # Element-wise product of one-hot labels and probabilities\n",
        "        entropy_term = delta * torch.log(delta + 1e-10)  # Entropy term (avoid log(0))\n",
        "\n",
        "        # Loss terms\n",
        "        loss0 = -cosyh * torch.log(certainty / self.num_classes + 1e-10)  # First term\n",
        "        loss1 = -(self.num_classes - 1) * (1 - cosyh) * torch.log((1 - certainty) / self.num_classes + 1e-10)  # Second term\n",
        "\n",
        "        # Combine the terms and compute the mean over the batch\n",
        "        loss = (entropy_term.sum(dim=1) + loss0 + loss1).mean()\n",
        "\n",
        "        return loss"
      ]
    },
    {
      "cell_type": "markdown",
      "metadata": {
        "id": "ZHSuQd99s_Ou"
      },
      "source": [
        "### Models zoo"
      ]
    },
    {
      "cell_type": "markdown",
      "metadata": {
        "id": "T0QP_le1tPL1"
      },
      "source": [
        "Architectures and loss functions"
      ]
    },
    {
      "cell_type": "code",
      "execution_count": 81,
      "metadata": {
        "id": "WfLgyavidUcW"
      },
      "outputs": [],
      "source": [
        "def get_arch_and_loss(hparams):\n",
        "    \"\"\"\n",
        "    Returns the architecture and loss function based on the provided hparams.\n",
        "\n",
        "    Args:\n",
        "        hparams (dict): Hyperparameters dictionary, including 'ARCHITECTURE' and 'criterion'.\n",
        "\n",
        "    Returns:\n",
        "        arch: The model architecture.\n",
        "        loss: The loss function.\n",
        "    \"\"\"\n",
        "    # Determine the number of outputs based on the loss function\n",
        "    if hparams['criterion'] in ['B', 'N']:\n",
        "        n_outputs = hparams['n_classes'] + 1  # Add 1 output neuron for BLoss or NLoss\n",
        "    else:\n",
        "        n_outputs = hparams['n_classes']  # Default number of outputs\n",
        "\n",
        "    # Define the architectures\n",
        "    architectures = {\n",
        "        'CNN': CNN(n_outputs=n_outputs),\n",
        "        'ResNet50': ResNet50(n_outputs=n_outputs),\n",
        "        'ViT': ViT(n_outputs=n_outputs),\n",
        "    }\n",
        "\n",
        "    # Define the loss functions\n",
        "    losses = {\n",
        "        'CE': nn.CrossEntropyLoss(),\n",
        "        'CELoss': CELoss(),\n",
        "        'B': BLoss(),\n",
        "        'N': NLoss(),\n",
        "    }\n",
        "\n",
        "    # Get the architecture and loss based on hparams\n",
        "    arch = architectures.get(hparams['architecture'])\n",
        "    loss = losses.get(hparams['criterion'])\n",
        "\n",
        "    if arch is None:\n",
        "        raise ValueError(f\"Architecture '{hparams['ARCHITECTURE']}' is not supported.\")\n",
        "    if loss is None:\n",
        "        raise ValueError(f\"Loss function '{hparams['criterion']}' is not supported.\")\n",
        "\n",
        "    return arch, loss\n"
      ]
    },
    {
      "cell_type": "markdown",
      "metadata": {
        "id": "CWrc-f3sWDDm"
      },
      "source": [
        "### Metrics"
      ]
    },
    {
      "cell_type": "code",
      "execution_count": 82,
      "metadata": {
        "id": "7793mMFKWFYS"
      },
      "outputs": [],
      "source": [
        "def metrics(dataloader,model,hparams=hparams,loss_fn_red=None):\n",
        "    # Collect images, predictions, and losses\n",
        "    # images = []\n",
        "    preds  = []\n",
        "    labels = []\n",
        "    losses = []\n",
        "    correct= 0\n",
        "    total  = 0\n",
        "    for batch in dataloader:\n",
        "        x, y, _ = batch\n",
        "        with torch.no_grad():\n",
        "            logits = model(x)\n",
        "            # loss = loss_fn_red(h,y)\n",
        "            pred = torch.argmax(logits[:,:hparams['n_classes']], dim=1)\n",
        "        correct += (pred == y).sum().item()  # Number of correct predictions\n",
        "        total += y.size(0)  # Total number of samples\n",
        "\n",
        "        # images.extend(x.cpu())\n",
        "        preds.extend(pred.cpu().numpy())\n",
        "        labels.extend(y.cpu().numpy())\n",
        "        # losses.extend(loss.cpu().numpy())\n",
        "    acc = correct / total\n",
        "    return preds, labels, acc"
      ]
    },
    {
      "cell_type": "code",
      "execution_count": 83,
      "metadata": {},
      "outputs": [],
      "source": [
        "# Plot confusion matrix\n",
        "def conf_mat(figsize,class_names=None):\n",
        "    plt.figure(figsize)\n",
        "    sns.heatmap(cm, annot=True, fmt='d', cmap='Blues',\n",
        "                xticklabels=class_names, yticklabels=class_names)\n",
        "    plt.xlabel('Predicted')\n",
        "    plt.ylabel('True')\n",
        "    plt.title('Confusion Matrix')\n",
        "    plt.show()"
      ]
    },
    {
      "cell_type": "markdown",
      "metadata": {
        "id": "KemJG62D7EJC"
      },
      "source": [
        "# Ensembling\n",
        "This approach is expected to give a robust ensemble model that leverages the diversity introduced by different seeds, potentially improving the overall accuracy on the test set."
      ]
    },
    {
      "cell_type": "markdown",
      "metadata": {
        "id": "7d0C987gzzlW"
      },
      "source": [
        "## Create Dataset and Data Loaders"
      ]
    },
    {
      "cell_type": "markdown",
      "metadata": {
        "id": "tQmBPmYH21V9"
      },
      "source": [
        "Initialization of the dataset, the dataloader, and the training module"
      ]
    },
    {
      "cell_type": "code",
      "execution_count": 84,
      "metadata": {
        "id": "jrjw6mU-z36-"
      },
      "outputs": [],
      "source": [
        "# Enter your code here\n",
        "data_module = CIFAR10DataModule(hparams)"
      ]
    },
    {
      "cell_type": "code",
      "execution_count": 85,
      "metadata": {
        "colab": {
          "base_uri": "https://localhost:8080/"
        },
        "id": "5cGx27TXIdXG",
        "outputId": "4905613f-3b0a-4a40-f31f-55797afaab83"
      },
      "outputs": [
        {
          "name": "stdout",
          "output_type": "stream",
          "text": [
            "Files already downloaded and verified\n"
          ]
        },
        {
          "name": "stderr",
          "output_type": "stream",
          "text": [
            "Seed set to 42\n"
          ]
        },
        {
          "name": "stdout",
          "output_type": "stream",
          "text": [
            "Loaded clean_label from ./data/CIFAR-10_human.pt.\n",
            "The overall noise rate is 0.0\n"
          ]
        }
      ],
      "source": [
        "data_module.setup()"
      ]
    },
    {
      "cell_type": "markdown",
      "metadata": {
        "id": "oBfy6DZL0tii"
      },
      "source": [
        "## Train the Ensemble"
      ]
    },
    {
      "cell_type": "markdown",
      "metadata": {
        "id": "sjxsAXHbrGC2"
      },
      "source": [
        "Loop over different seeds"
      ]
    },
    {
      "cell_type": "code",
      "execution_count": 86,
      "metadata": {
        "colab": {
          "base_uri": "https://localhost:8080/"
        },
        "id": "8VFcJ_H9HWcB",
        "outputId": "74de80c2-93ee-4673-8fc2-12a55e553a7d"
      },
      "outputs": [
        {
          "data": {
            "text/plain": [
              "(tensor([[[ 0.5349,  0.6302,  0.5984,  ...,  0.1380, -0.0208, -0.1001],\n",
              "          [ 0.5191,  0.6461,  0.5667,  ...,  0.1856,  0.0428, -0.0843],\n",
              "          [ 0.5508,  0.7255,  0.6461,  ...,  0.2174,  0.1380, -0.0049],\n",
              "          ...,\n",
              "          [-1.5132, -1.4497, -1.3226,  ..., -1.1004, -1.3703, -1.1798],\n",
              "          [-1.4814, -1.4497, -1.3544,  ..., -1.5132, -1.7037, -1.2115],\n",
              "          [-1.4973, -1.4020, -1.4020,  ..., -1.4497, -1.7354, -1.3544]],\n",
              " \n",
              "         [[-0.1443, -0.1121, -0.1604,  ..., -0.4664, -0.5147, -0.5630],\n",
              "          [-0.1926, -0.1765, -0.2409,  ..., -0.4181, -0.4664, -0.5469],\n",
              "          [-0.2248, -0.1765, -0.2248,  ..., -0.3698, -0.4020, -0.4825],\n",
              "          ...,\n",
              "          [-0.5308, -0.5953, -0.6275,  ..., -0.1604, -0.5308, -0.4503],\n",
              "          [-0.5147, -0.5630, -0.5630,  ..., -0.5953, -0.9657, -0.4986],\n",
              "          [-0.5630, -0.5147, -0.5630,  ..., -0.4986, -0.9174, -0.6114]],\n",
              " \n",
              "         [[-1.0322, -0.8823, -0.9573,  ..., -1.2421, -1.2271, -1.1971],\n",
              "          [-1.1521, -0.9873, -1.0472,  ..., -1.1971, -1.1971, -1.2121],\n",
              "          [-1.2271, -1.0472, -1.0622,  ..., -1.1372, -1.1372, -1.1821],\n",
              "          ...,\n",
              "          [ 0.3769,  0.3169,  0.2420,  ...,  0.7217,  0.3020,  0.3619],\n",
              "          [ 0.4219,  0.4219,  0.3619,  ...,  0.3169, -0.1028,  0.3169],\n",
              "          [ 0.3469,  0.4668,  0.3919,  ...,  0.3919, -0.0578,  0.1970]]]),\n",
              " 3,\n",
              " 0)"
            ]
          },
          "execution_count": 86,
          "metadata": {},
          "output_type": "execute_result"
        }
      ],
      "source": [
        "batch = next(iter(data_module.cifar10_test))\n",
        "images, labels, indices = batch\n",
        "images, labels, indices"
      ]
    },
    {
      "cell_type": "code",
      "execution_count": 87,
      "metadata": {
        "id": "4qZzt5w4smrt"
      },
      "outputs": [],
      "source": [
        "# List to store predictions from each model\n",
        "all_predictions = []"
      ]
    },
    {
      "cell_type": "code",
      "execution_count": 88,
      "metadata": {
        "colab": {
          "base_uri": "https://localhost:8080/",
          "height": 1000,
          "referenced_widgets": [
            "8c9df580faff41e78b470dd9c8a6cf73",
            "9af41908fe1b45b292d012a82fa00753",
            "eb8e5d54edb94ba6b90b03652ce9c5bc",
            "41a67280089c45e0a8b3ccc1f066e18e",
            "9b85118e3dfa422586379d6b5d2d25e4",
            "a0d5245166e94869b8df01bd4689e7f7",
            "4ae6bc9db93f4de4bef28c8e2394a782",
            "13012a9efd274c74bbdf69696406fe4d",
            "e3bf949ac2564b4b948874e28bbb9d57",
            "a3952667390a439989946f68eaef4a5c",
            "79479df18b2c400ab3cd4f966da90921"
          ]
        },
        "id": "QisO7wDarFVS",
        "outputId": "d12d329d-3ca8-4b6b-c2f7-8fe9d2012ffb"
      },
      "outputs": [
        {
          "name": "stderr",
          "output_type": "stream",
          "text": [
            "Seed set to 42\n",
            "c:\\Users\\dnbabkov\\anaconda3\\Lib\\site-packages\\torchvision\\models\\_utils.py:208: UserWarning:\n",
            "\n",
            "The parameter 'pretrained' is deprecated since 0.13 and may be removed in the future, please use 'weights' instead.\n",
            "\n",
            "c:\\Users\\dnbabkov\\anaconda3\\Lib\\site-packages\\torchvision\\models\\_utils.py:223: UserWarning:\n",
            "\n",
            "Arguments other than a weight enum or `None` for 'weights' are deprecated since 0.13 and may be removed in the future. The current behavior is equivalent to passing `weights=ResNet50_Weights.IMAGENET1K_V1`. You can also use `weights=ResNet50_Weights.DEFAULT` to get the most up-to-date weights.\n",
            "\n",
            "c:\\Users\\dnbabkov\\anaconda3\\Lib\\site-packages\\torchvision\\models\\_utils.py:223: UserWarning:\n",
            "\n",
            "Arguments other than a weight enum or `None` for 'weights' are deprecated since 0.13 and may be removed in the future. The current behavior is equivalent to passing `weights=ViT_B_16_Weights.IMAGENET1K_V1`. You can also use `weights=ViT_B_16_Weights.DEFAULT` to get the most up-to-date weights.\n",
            "\n"
          ]
        },
        {
          "name": "stdout",
          "output_type": "stream",
          "text": [
            "ClearML Task: created new task id=0a5d8edb02dc407eb57d55ce2d5b8717\n",
            "ClearML results page: https://app.clear.ml/projects/09a9b5f5920a4cff8953c41143a493a4/experiments/0a5d8edb02dc407eb57d55ce2d5b8717/output/log\n"
          ]
        },
        {
          "name": "stderr",
          "output_type": "stream",
          "text": [
            "Parameters must be of builtin type (General/mean[ndarray], General/std[ndarray])\n",
            "GPU available: True (cuda), used: True\n",
            "TPU available: False, using: 0 TPU cores\n",
            "HPU available: False, using: 0 HPUs\n"
          ]
        },
        {
          "name": "stdout",
          "output_type": "stream",
          "text": [
            "Files already downloaded and verified\n",
            "Files already downloaded and verified\n",
            "Files already downloaded and verified\n"
          ]
        },
        {
          "name": "stderr",
          "output_type": "stream",
          "text": [
            "Seed set to 42\n"
          ]
        },
        {
          "name": "stdout",
          "output_type": "stream",
          "text": [
            "Loaded clean_label from ./data/CIFAR-10_human.pt.\n",
            "The overall noise rate is 0.0\n"
          ]
        },
        {
          "name": "stderr",
          "output_type": "stream",
          "text": [
            "c:\\Users\\dnbabkov\\anaconda3\\Lib\\site-packages\\pytorch_lightning\\callbacks\\model_checkpoint.py:654: UserWarning:\n",
            "\n",
            "Checkpoint directory C:\\Users\\dnbabkov\\Desktop\\Innopolis\\Computer Vision\\ДЗ\\saved_models exists and is not empty.\n",
            "\n",
            "LOCAL_RANK: 0 - CUDA_VISIBLE_DEVICES: [0]\n",
            "\n",
            "  | Name    | Type     | Params | Mode \n",
            "---------------------------------------------\n",
            "0 | model   | ResNet50 | 23.5 M | train\n",
            "1 | loss_fn | BLoss    | 0      | train\n",
            "---------------------------------------------\n",
            "23.5 M    Trainable params\n",
            "0         Non-trainable params\n",
            "23.5 M    Total params\n",
            "94.122    Total estimated model params size (MB)\n",
            "153       Modules in train mode\n",
            "0         Modules in eval mode\n"
          ]
        },
        {
          "data": {
            "application/vnd.jupyter.widget-view+json": {
              "model_id": "c658fafa84354064a2303ab84f7b7207",
              "version_major": 2,
              "version_minor": 0
            },
            "text/plain": [
              "Sanity Checking: |          | 0/? [00:00<?, ?it/s]"
            ]
          },
          "metadata": {},
          "output_type": "display_data"
        },
        {
          "name": "stderr",
          "output_type": "stream",
          "text": [
            "c:\\Users\\dnbabkov\\anaconda3\\Lib\\site-packages\\pytorch_lightning\\trainer\\connectors\\data_connector.py:424: PossibleUserWarning:\n",
            "\n",
            "The 'val_dataloader' does not have many workers which may be a bottleneck. Consider increasing the value of the `num_workers` argument` to `num_workers=15` in the `DataLoader` to improve performance.\n",
            "\n",
            "c:\\Users\\dnbabkov\\anaconda3\\Lib\\site-packages\\pytorch_lightning\\trainer\\connectors\\data_connector.py:424: PossibleUserWarning:\n",
            "\n",
            "The 'train_dataloader' does not have many workers which may be a bottleneck. Consider increasing the value of the `num_workers` argument` to `num_workers=15` in the `DataLoader` to improve performance.\n",
            "\n"
          ]
        },
        {
          "data": {
            "application/vnd.jupyter.widget-view+json": {
              "model_id": "fc806a5f76ec40728e17be3e4ed3a15b",
              "version_major": 2,
              "version_minor": 0
            },
            "text/plain": [
              "Training: |          | 0/? [00:00<?, ?it/s]"
            ]
          },
          "metadata": {},
          "output_type": "display_data"
        },
        {
          "data": {
            "application/vnd.jupyter.widget-view+json": {
              "model_id": "9b78314b4e9247fda2513dec6eb94e47",
              "version_major": 2,
              "version_minor": 0
            },
            "text/plain": [
              "Validation: |          | 0/? [00:00<?, ?it/s]"
            ]
          },
          "metadata": {},
          "output_type": "display_data"
        },
        {
          "data": {
            "application/vnd.jupyter.widget-view+json": {
              "model_id": "8fa454ca82984135b3bcc6aa4b4cbe0d",
              "version_major": 2,
              "version_minor": 0
            },
            "text/plain": [
              "Validation: |          | 0/? [00:00<?, ?it/s]"
            ]
          },
          "metadata": {},
          "output_type": "display_data"
        },
        {
          "data": {
            "application/vnd.jupyter.widget-view+json": {
              "model_id": "f769e6a1a31e4b0a84bdadd8fdfc325e",
              "version_major": 2,
              "version_minor": 0
            },
            "text/plain": [
              "Validation: |          | 0/? [00:00<?, ?it/s]"
            ]
          },
          "metadata": {},
          "output_type": "display_data"
        },
        {
          "name": "stdout",
          "output_type": "stream",
          "text": [
            "ClearML Monitor: Could not detect iteration reporting, falling back to iterations as seconds-from-start\n"
          ]
        },
        {
          "data": {
            "application/vnd.jupyter.widget-view+json": {
              "model_id": "1692dda5e7164313b31288dcf0298e17",
              "version_major": 2,
              "version_minor": 0
            },
            "text/plain": [
              "Validation: |          | 0/? [00:00<?, ?it/s]"
            ]
          },
          "metadata": {},
          "output_type": "display_data"
        },
        {
          "data": {
            "application/vnd.jupyter.widget-view+json": {
              "model_id": "efad1dca93ff4993905f2b1c0292631e",
              "version_major": 2,
              "version_minor": 0
            },
            "text/plain": [
              "Validation: |          | 0/? [00:00<?, ?it/s]"
            ]
          },
          "metadata": {},
          "output_type": "display_data"
        },
        {
          "data": {
            "application/vnd.jupyter.widget-view+json": {
              "model_id": "b95e6581e95c4062ab16910573671807",
              "version_major": 2,
              "version_minor": 0
            },
            "text/plain": [
              "Validation: |          | 0/? [00:00<?, ?it/s]"
            ]
          },
          "metadata": {},
          "output_type": "display_data"
        },
        {
          "data": {
            "application/vnd.jupyter.widget-view+json": {
              "model_id": "0c944b62260c4eee95948abfa9be4c93",
              "version_major": 2,
              "version_minor": 0
            },
            "text/plain": [
              "Validation: |          | 0/? [00:00<?, ?it/s]"
            ]
          },
          "metadata": {},
          "output_type": "display_data"
        },
        {
          "data": {
            "application/vnd.jupyter.widget-view+json": {
              "model_id": "9b0624a6790e401ba996953a1d1cec05",
              "version_major": 2,
              "version_minor": 0
            },
            "text/plain": [
              "Validation: |          | 0/? [00:00<?, ?it/s]"
            ]
          },
          "metadata": {},
          "output_type": "display_data"
        },
        {
          "data": {
            "application/vnd.jupyter.widget-view+json": {
              "model_id": "bf251826f30c4b81b236657639e76dea",
              "version_major": 2,
              "version_minor": 0
            },
            "text/plain": [
              "Validation: |          | 0/? [00:00<?, ?it/s]"
            ]
          },
          "metadata": {},
          "output_type": "display_data"
        },
        {
          "data": {
            "application/vnd.jupyter.widget-view+json": {
              "model_id": "468ff6f040e7408d899767563dffb858",
              "version_major": 2,
              "version_minor": 0
            },
            "text/plain": [
              "Validation: |          | 0/? [00:00<?, ?it/s]"
            ]
          },
          "metadata": {},
          "output_type": "display_data"
        },
        {
          "data": {
            "application/vnd.jupyter.widget-view+json": {
              "model_id": "9ffc84588c60415aa5f7c0abed2d0f89",
              "version_major": 2,
              "version_minor": 0
            },
            "text/plain": [
              "Validation: |          | 0/? [00:00<?, ?it/s]"
            ]
          },
          "metadata": {},
          "output_type": "display_data"
        },
        {
          "data": {
            "application/vnd.jupyter.widget-view+json": {
              "model_id": "dc4881b956e94941a1319609c4fbbbee",
              "version_major": 2,
              "version_minor": 0
            },
            "text/plain": [
              "Validation: |          | 0/? [00:00<?, ?it/s]"
            ]
          },
          "metadata": {},
          "output_type": "display_data"
        },
        {
          "data": {
            "application/vnd.jupyter.widget-view+json": {
              "model_id": "ffc55fc70cf44ccbb8a796bebac7591d",
              "version_major": 2,
              "version_minor": 0
            },
            "text/plain": [
              "Validation: |          | 0/? [00:00<?, ?it/s]"
            ]
          },
          "metadata": {},
          "output_type": "display_data"
        },
        {
          "data": {
            "application/vnd.jupyter.widget-view+json": {
              "model_id": "890f7e7e009e4a5bbc885ee298ec5531",
              "version_major": 2,
              "version_minor": 0
            },
            "text/plain": [
              "Validation: |          | 0/? [00:00<?, ?it/s]"
            ]
          },
          "metadata": {},
          "output_type": "display_data"
        },
        {
          "data": {
            "application/vnd.jupyter.widget-view+json": {
              "model_id": "677f5e81b22341f58e035398f9319eb0",
              "version_major": 2,
              "version_minor": 0
            },
            "text/plain": [
              "Validation: |          | 0/? [00:00<?, ?it/s]"
            ]
          },
          "metadata": {},
          "output_type": "display_data"
        },
        {
          "data": {
            "application/vnd.jupyter.widget-view+json": {
              "model_id": "a4c9eb650aa5429aada8833b8a83d057",
              "version_major": 2,
              "version_minor": 0
            },
            "text/plain": [
              "Validation: |          | 0/? [00:00<?, ?it/s]"
            ]
          },
          "metadata": {},
          "output_type": "display_data"
        },
        {
          "data": {
            "application/vnd.jupyter.widget-view+json": {
              "model_id": "b2a3df66874046819df0eeeba18601f3",
              "version_major": 2,
              "version_minor": 0
            },
            "text/plain": [
              "Validation: |          | 0/? [00:00<?, ?it/s]"
            ]
          },
          "metadata": {},
          "output_type": "display_data"
        },
        {
          "data": {
            "application/vnd.jupyter.widget-view+json": {
              "model_id": "3dfdbca9803847628cbfaf35abb4247c",
              "version_major": 2,
              "version_minor": 0
            },
            "text/plain": [
              "Validation: |          | 0/? [00:00<?, ?it/s]"
            ]
          },
          "metadata": {},
          "output_type": "display_data"
        },
        {
          "data": {
            "application/vnd.jupyter.widget-view+json": {
              "model_id": "90a6789fbe404ddc9e254c8d3ab49b82",
              "version_major": 2,
              "version_minor": 0
            },
            "text/plain": [
              "Validation: |          | 0/? [00:00<?, ?it/s]"
            ]
          },
          "metadata": {},
          "output_type": "display_data"
        },
        {
          "data": {
            "application/vnd.jupyter.widget-view+json": {
              "model_id": "58cace3bf7bd4d38ab859a3c0967625a",
              "version_major": 2,
              "version_minor": 0
            },
            "text/plain": [
              "Validation: |          | 0/? [00:00<?, ?it/s]"
            ]
          },
          "metadata": {},
          "output_type": "display_data"
        },
        {
          "name": "stderr",
          "output_type": "stream",
          "text": [
            "`Trainer.fit` stopped: `max_epochs=20` reached.\n",
            "c:\\Users\\dnbabkov\\anaconda3\\Lib\\site-packages\\pytorch_lightning\\utilities\\parsing.py:208: UserWarning:\n",
            "\n",
            "Attribute 'model' is an instance of `nn.Module` and is already saved during checkpointing. It is recommended to ignore them using `self.save_hyperparameters(ignore=['model'])`.\n",
            "\n",
            "c:\\Users\\dnbabkov\\anaconda3\\Lib\\site-packages\\pytorch_lightning\\utilities\\parsing.py:208: UserWarning:\n",
            "\n",
            "Attribute 'loss' is an instance of `nn.Module` and is already saved during checkpointing. It is recommended to ignore them using `self.save_hyperparameters(ignore=['loss'])`.\n",
            "\n",
            "█████████████████████████████ 100% | 269.73/269.73 MB [11:53<00:00,  2.53s/MB]: c:\\Users\\dnbabkov\\anaconda3\\Lib\\site-packages\\tqdm\\std.py:636: TqdmWarning:\n",
            "\n",
            "clamping frac to range [0, 1]\n",
            "\n",
            "█████████████████████████████ 100% | 269.73/269.73 MB [11:55<00:00,  2.65s/MB]: \n",
            "Seed set to 0\n",
            "c:\\Users\\dnbabkov\\anaconda3\\Lib\\site-packages\\torchvision\\models\\_utils.py:208: UserWarning:\n",
            "\n",
            "The parameter 'pretrained' is deprecated since 0.13 and may be removed in the future, please use 'weights' instead.\n",
            "\n",
            "c:\\Users\\dnbabkov\\anaconda3\\Lib\\site-packages\\torchvision\\models\\_utils.py:223: UserWarning:\n",
            "\n",
            "Arguments other than a weight enum or `None` for 'weights' are deprecated since 0.13 and may be removed in the future. The current behavior is equivalent to passing `weights=ResNet50_Weights.IMAGENET1K_V1`. You can also use `weights=ResNet50_Weights.DEFAULT` to get the most up-to-date weights.\n",
            "\n",
            "c:\\Users\\dnbabkov\\anaconda3\\Lib\\site-packages\\torchvision\\models\\_utils.py:223: UserWarning:\n",
            "\n",
            "Arguments other than a weight enum or `None` for 'weights' are deprecated since 0.13 and may be removed in the future. The current behavior is equivalent to passing `weights=ViT_B_16_Weights.IMAGENET1K_V1`. You can also use `weights=ViT_B_16_Weights.DEFAULT` to get the most up-to-date weights.\n",
            "\n"
          ]
        },
        {
          "name": "stdout",
          "output_type": "stream",
          "text": [
            "ClearML Task: created new task id=59be5999dfce457099020df23a26d19d\n",
            "ClearML results page: https://app.clear.ml/projects/09a9b5f5920a4cff8953c41143a493a4/experiments/59be5999dfce457099020df23a26d19d/output/log\n"
          ]
        },
        {
          "name": "stderr",
          "output_type": "stream",
          "text": [
            "Parameters must be of builtin type (General/mean[ndarray], General/std[ndarray])\n",
            "GPU available: True (cuda), used: True\n",
            "TPU available: False, using: 0 TPU cores\n",
            "HPU available: False, using: 0 HPUs\n"
          ]
        },
        {
          "name": "stdout",
          "output_type": "stream",
          "text": [
            "Files already downloaded and verified\n",
            "Files already downloaded and verified\n",
            "Files already downloaded and verified\n"
          ]
        },
        {
          "name": "stderr",
          "output_type": "stream",
          "text": [
            "Seed set to 42\n"
          ]
        },
        {
          "name": "stdout",
          "output_type": "stream",
          "text": [
            "Loaded clean_label from ./data/CIFAR-10_human.pt.\n",
            "The overall noise rate is 0.0\n"
          ]
        },
        {
          "name": "stderr",
          "output_type": "stream",
          "text": [
            "c:\\Users\\dnbabkov\\anaconda3\\Lib\\site-packages\\pytorch_lightning\\callbacks\\model_checkpoint.py:654: UserWarning:\n",
            "\n",
            "Checkpoint directory C:\\Users\\dnbabkov\\Desktop\\Innopolis\\Computer Vision\\ДЗ\\saved_models exists and is not empty.\n",
            "\n",
            "LOCAL_RANK: 0 - CUDA_VISIBLE_DEVICES: [0]\n",
            "\n",
            "  | Name    | Type     | Params | Mode \n",
            "---------------------------------------------\n",
            "0 | model   | ResNet50 | 23.5 M | train\n",
            "1 | loss_fn | BLoss    | 0      | train\n",
            "---------------------------------------------\n",
            "23.5 M    Trainable params\n",
            "0         Non-trainable params\n",
            "23.5 M    Total params\n",
            "94.122    Total estimated model params size (MB)\n",
            "153       Modules in train mode\n",
            "0         Modules in eval mode\n"
          ]
        },
        {
          "data": {
            "application/vnd.jupyter.widget-view+json": {
              "model_id": "d3b1bed5bcb544cea57ca8f366af759f",
              "version_major": 2,
              "version_minor": 0
            },
            "text/plain": [
              "Sanity Checking: |          | 0/? [00:00<?, ?it/s]"
            ]
          },
          "metadata": {},
          "output_type": "display_data"
        },
        {
          "name": "stderr",
          "output_type": "stream",
          "text": [
            "c:\\Users\\dnbabkov\\anaconda3\\Lib\\site-packages\\pytorch_lightning\\trainer\\connectors\\data_connector.py:424: PossibleUserWarning:\n",
            "\n",
            "The 'val_dataloader' does not have many workers which may be a bottleneck. Consider increasing the value of the `num_workers` argument` to `num_workers=15` in the `DataLoader` to improve performance.\n",
            "\n",
            "c:\\Users\\dnbabkov\\anaconda3\\Lib\\site-packages\\pytorch_lightning\\trainer\\connectors\\data_connector.py:424: PossibleUserWarning:\n",
            "\n",
            "The 'train_dataloader' does not have many workers which may be a bottleneck. Consider increasing the value of the `num_workers` argument` to `num_workers=15` in the `DataLoader` to improve performance.\n",
            "\n"
          ]
        },
        {
          "data": {
            "application/vnd.jupyter.widget-view+json": {
              "model_id": "7342adcdca594d0aa1f4f0b4470a12da",
              "version_major": 2,
              "version_minor": 0
            },
            "text/plain": [
              "Training: |          | 0/? [00:00<?, ?it/s]"
            ]
          },
          "metadata": {},
          "output_type": "display_data"
        },
        {
          "data": {
            "application/vnd.jupyter.widget-view+json": {
              "model_id": "02020583a23a476387fbb190141737b6",
              "version_major": 2,
              "version_minor": 0
            },
            "text/plain": [
              "Validation: |          | 0/? [00:00<?, ?it/s]"
            ]
          },
          "metadata": {},
          "output_type": "display_data"
        },
        {
          "data": {
            "application/vnd.jupyter.widget-view+json": {
              "model_id": "02305a1ae78942068055129c8c5d5d2c",
              "version_major": 2,
              "version_minor": 0
            },
            "text/plain": [
              "Validation: |          | 0/? [00:00<?, ?it/s]"
            ]
          },
          "metadata": {},
          "output_type": "display_data"
        },
        {
          "data": {
            "application/vnd.jupyter.widget-view+json": {
              "model_id": "7b49ce213e0f4b9188ae5bfb09bc85e2",
              "version_major": 2,
              "version_minor": 0
            },
            "text/plain": [
              "Validation: |          | 0/? [00:00<?, ?it/s]"
            ]
          },
          "metadata": {},
          "output_type": "display_data"
        },
        {
          "data": {
            "application/vnd.jupyter.widget-view+json": {
              "model_id": "28c1bfa23fbf44a8ab94e133e4687b21",
              "version_major": 2,
              "version_minor": 0
            },
            "text/plain": [
              "Validation: |          | 0/? [00:00<?, ?it/s]"
            ]
          },
          "metadata": {},
          "output_type": "display_data"
        },
        {
          "name": "stdout",
          "output_type": "stream",
          "text": [
            "ClearML Monitor: Could not detect iteration reporting, falling back to iterations as seconds-from-start\n"
          ]
        },
        {
          "data": {
            "application/vnd.jupyter.widget-view+json": {
              "model_id": "e17a78b24d7f4c9081c0ba511b9800d8",
              "version_major": 2,
              "version_minor": 0
            },
            "text/plain": [
              "Validation: |          | 0/? [00:00<?, ?it/s]"
            ]
          },
          "metadata": {},
          "output_type": "display_data"
        },
        {
          "data": {
            "application/vnd.jupyter.widget-view+json": {
              "model_id": "963779cca53a472a966d990191b4764d",
              "version_major": 2,
              "version_minor": 0
            },
            "text/plain": [
              "Validation: |          | 0/? [00:00<?, ?it/s]"
            ]
          },
          "metadata": {},
          "output_type": "display_data"
        },
        {
          "data": {
            "application/vnd.jupyter.widget-view+json": {
              "model_id": "8b1fdc07a6d74f38a88980b62dbb5bd1",
              "version_major": 2,
              "version_minor": 0
            },
            "text/plain": [
              "Validation: |          | 0/? [00:00<?, ?it/s]"
            ]
          },
          "metadata": {},
          "output_type": "display_data"
        },
        {
          "data": {
            "application/vnd.jupyter.widget-view+json": {
              "model_id": "f08d060c3999400b910ddf50750f4753",
              "version_major": 2,
              "version_minor": 0
            },
            "text/plain": [
              "Validation: |          | 0/? [00:00<?, ?it/s]"
            ]
          },
          "metadata": {},
          "output_type": "display_data"
        },
        {
          "data": {
            "application/vnd.jupyter.widget-view+json": {
              "model_id": "330e00dd29c34c8d86bc91c379268065",
              "version_major": 2,
              "version_minor": 0
            },
            "text/plain": [
              "Validation: |          | 0/? [00:00<?, ?it/s]"
            ]
          },
          "metadata": {},
          "output_type": "display_data"
        },
        {
          "data": {
            "application/vnd.jupyter.widget-view+json": {
              "model_id": "7797b699f4404ac3bef033ce02b5c7e9",
              "version_major": 2,
              "version_minor": 0
            },
            "text/plain": [
              "Validation: |          | 0/? [00:00<?, ?it/s]"
            ]
          },
          "metadata": {},
          "output_type": "display_data"
        },
        {
          "data": {
            "application/vnd.jupyter.widget-view+json": {
              "model_id": "6e1f85b165d042a199f204f384bf942c",
              "version_major": 2,
              "version_minor": 0
            },
            "text/plain": [
              "Validation: |          | 0/? [00:00<?, ?it/s]"
            ]
          },
          "metadata": {},
          "output_type": "display_data"
        },
        {
          "data": {
            "application/vnd.jupyter.widget-view+json": {
              "model_id": "f6ace62b36314e388d8dcb7c1e541162",
              "version_major": 2,
              "version_minor": 0
            },
            "text/plain": [
              "Validation: |          | 0/? [00:00<?, ?it/s]"
            ]
          },
          "metadata": {},
          "output_type": "display_data"
        },
        {
          "data": {
            "application/vnd.jupyter.widget-view+json": {
              "model_id": "7640cd37a3cd42ac9e58efc8fd772518",
              "version_major": 2,
              "version_minor": 0
            },
            "text/plain": [
              "Validation: |          | 0/? [00:00<?, ?it/s]"
            ]
          },
          "metadata": {},
          "output_type": "display_data"
        },
        {
          "data": {
            "application/vnd.jupyter.widget-view+json": {
              "model_id": "1ee2c0f3c2e445e6a045047ab33bd66b",
              "version_major": 2,
              "version_minor": 0
            },
            "text/plain": [
              "Validation: |          | 0/? [00:00<?, ?it/s]"
            ]
          },
          "metadata": {},
          "output_type": "display_data"
        },
        {
          "data": {
            "application/vnd.jupyter.widget-view+json": {
              "model_id": "5b640f6608ae4a7cb0524b7a0d3068d3",
              "version_major": 2,
              "version_minor": 0
            },
            "text/plain": [
              "Validation: |          | 0/? [00:00<?, ?it/s]"
            ]
          },
          "metadata": {},
          "output_type": "display_data"
        },
        {
          "data": {
            "application/vnd.jupyter.widget-view+json": {
              "model_id": "e22464250dcf49038e24698abc958f80",
              "version_major": 2,
              "version_minor": 0
            },
            "text/plain": [
              "Validation: |          | 0/? [00:00<?, ?it/s]"
            ]
          },
          "metadata": {},
          "output_type": "display_data"
        },
        {
          "data": {
            "application/vnd.jupyter.widget-view+json": {
              "model_id": "9b21c0f84e834c538c273c45d9cebaed",
              "version_major": 2,
              "version_minor": 0
            },
            "text/plain": [
              "Validation: |          | 0/? [00:00<?, ?it/s]"
            ]
          },
          "metadata": {},
          "output_type": "display_data"
        },
        {
          "data": {
            "application/vnd.jupyter.widget-view+json": {
              "model_id": "2d1b2ec05aa8433b843d11a56f877e67",
              "version_major": 2,
              "version_minor": 0
            },
            "text/plain": [
              "Validation: |          | 0/? [00:00<?, ?it/s]"
            ]
          },
          "metadata": {},
          "output_type": "display_data"
        },
        {
          "data": {
            "application/vnd.jupyter.widget-view+json": {
              "model_id": "bd649b8ae01b43fcb560cbb2340f6b84",
              "version_major": 2,
              "version_minor": 0
            },
            "text/plain": [
              "Validation: |          | 0/? [00:00<?, ?it/s]"
            ]
          },
          "metadata": {},
          "output_type": "display_data"
        },
        {
          "data": {
            "application/vnd.jupyter.widget-view+json": {
              "model_id": "ea06f46dde75490b8c9f305ec2dd9447",
              "version_major": 2,
              "version_minor": 0
            },
            "text/plain": [
              "Validation: |          | 0/? [00:00<?, ?it/s]"
            ]
          },
          "metadata": {},
          "output_type": "display_data"
        },
        {
          "name": "stderr",
          "output_type": "stream",
          "text": [
            "`Trainer.fit` stopped: `max_epochs=20` reached.\n",
            "c:\\Users\\dnbabkov\\anaconda3\\Lib\\site-packages\\pytorch_lightning\\utilities\\parsing.py:208: UserWarning:\n",
            "\n",
            "Attribute 'model' is an instance of `nn.Module` and is already saved during checkpointing. It is recommended to ignore them using `self.save_hyperparameters(ignore=['model'])`.\n",
            "\n",
            "c:\\Users\\dnbabkov\\anaconda3\\Lib\\site-packages\\pytorch_lightning\\utilities\\parsing.py:208: UserWarning:\n",
            "\n",
            "Attribute 'loss' is an instance of `nn.Module` and is already saved during checkpointing. It is recommended to ignore them using `self.save_hyperparameters(ignore=['loss'])`.\n",
            "\n",
            "█████████████████████████████ 100% | 269.73/269.73 MB [13:15<00:00,  3.39s/MB]: c:\\Users\\dnbabkov\\anaconda3\\Lib\\site-packages\\tqdm\\std.py:636: TqdmWarning:\n",
            "\n",
            "clamping frac to range [0, 1]\n",
            "\n",
            "█████████████████████████████ 100% | 269.73/269.73 MB [13:17<00:00,  2.96s/MB]: \n",
            "Seed set to 17\n",
            "c:\\Users\\dnbabkov\\anaconda3\\Lib\\site-packages\\torchvision\\models\\_utils.py:208: UserWarning:\n",
            "\n",
            "The parameter 'pretrained' is deprecated since 0.13 and may be removed in the future, please use 'weights' instead.\n",
            "\n",
            "c:\\Users\\dnbabkov\\anaconda3\\Lib\\site-packages\\torchvision\\models\\_utils.py:223: UserWarning:\n",
            "\n",
            "Arguments other than a weight enum or `None` for 'weights' are deprecated since 0.13 and may be removed in the future. The current behavior is equivalent to passing `weights=ResNet50_Weights.IMAGENET1K_V1`. You can also use `weights=ResNet50_Weights.DEFAULT` to get the most up-to-date weights.\n",
            "\n",
            "c:\\Users\\dnbabkov\\anaconda3\\Lib\\site-packages\\torchvision\\models\\_utils.py:223: UserWarning:\n",
            "\n",
            "Arguments other than a weight enum or `None` for 'weights' are deprecated since 0.13 and may be removed in the future. The current behavior is equivalent to passing `weights=ViT_B_16_Weights.IMAGENET1K_V1`. You can also use `weights=ViT_B_16_Weights.DEFAULT` to get the most up-to-date weights.\n",
            "\n"
          ]
        },
        {
          "name": "stdout",
          "output_type": "stream",
          "text": [
            "ClearML Task: created new task id=2f83568429e34a1c8fa13150db0ffd45\n",
            "ClearML results page: https://app.clear.ml/projects/09a9b5f5920a4cff8953c41143a493a4/experiments/2f83568429e34a1c8fa13150db0ffd45/output/log\n"
          ]
        },
        {
          "name": "stderr",
          "output_type": "stream",
          "text": [
            "Parameters must be of builtin type (General/mean[ndarray], General/std[ndarray])\n",
            "GPU available: True (cuda), used: True\n",
            "TPU available: False, using: 0 TPU cores\n",
            "HPU available: False, using: 0 HPUs\n"
          ]
        },
        {
          "name": "stdout",
          "output_type": "stream",
          "text": [
            "Files already downloaded and verified\n",
            "Files already downloaded and verified\n",
            "Files already downloaded and verified\n"
          ]
        },
        {
          "name": "stderr",
          "output_type": "stream",
          "text": [
            "Seed set to 42\n"
          ]
        },
        {
          "name": "stdout",
          "output_type": "stream",
          "text": [
            "Loaded clean_label from ./data/CIFAR-10_human.pt.\n",
            "The overall noise rate is 0.0\n"
          ]
        },
        {
          "name": "stderr",
          "output_type": "stream",
          "text": [
            "c:\\Users\\dnbabkov\\anaconda3\\Lib\\site-packages\\pytorch_lightning\\callbacks\\model_checkpoint.py:654: UserWarning:\n",
            "\n",
            "Checkpoint directory C:\\Users\\dnbabkov\\Desktop\\Innopolis\\Computer Vision\\ДЗ\\saved_models exists and is not empty.\n",
            "\n",
            "LOCAL_RANK: 0 - CUDA_VISIBLE_DEVICES: [0]\n",
            "\n",
            "  | Name    | Type     | Params | Mode \n",
            "---------------------------------------------\n",
            "0 | model   | ResNet50 | 23.5 M | train\n",
            "1 | loss_fn | BLoss    | 0      | train\n",
            "---------------------------------------------\n",
            "23.5 M    Trainable params\n",
            "0         Non-trainable params\n",
            "23.5 M    Total params\n",
            "94.122    Total estimated model params size (MB)\n",
            "153       Modules in train mode\n",
            "0         Modules in eval mode\n"
          ]
        },
        {
          "data": {
            "application/vnd.jupyter.widget-view+json": {
              "model_id": "70f7b843bd4748489bcee706ab33144c",
              "version_major": 2,
              "version_minor": 0
            },
            "text/plain": [
              "Sanity Checking: |          | 0/? [00:00<?, ?it/s]"
            ]
          },
          "metadata": {},
          "output_type": "display_data"
        },
        {
          "name": "stderr",
          "output_type": "stream",
          "text": [
            "c:\\Users\\dnbabkov\\anaconda3\\Lib\\site-packages\\pytorch_lightning\\trainer\\connectors\\data_connector.py:424: PossibleUserWarning:\n",
            "\n",
            "The 'val_dataloader' does not have many workers which may be a bottleneck. Consider increasing the value of the `num_workers` argument` to `num_workers=15` in the `DataLoader` to improve performance.\n",
            "\n",
            "c:\\Users\\dnbabkov\\anaconda3\\Lib\\site-packages\\pytorch_lightning\\trainer\\connectors\\data_connector.py:424: PossibleUserWarning:\n",
            "\n",
            "The 'train_dataloader' does not have many workers which may be a bottleneck. Consider increasing the value of the `num_workers` argument` to `num_workers=15` in the `DataLoader` to improve performance.\n",
            "\n"
          ]
        },
        {
          "data": {
            "application/vnd.jupyter.widget-view+json": {
              "model_id": "53daad102ee74696a9e63b8020dcf0a0",
              "version_major": 2,
              "version_minor": 0
            },
            "text/plain": [
              "Training: |          | 0/? [00:00<?, ?it/s]"
            ]
          },
          "metadata": {},
          "output_type": "display_data"
        },
        {
          "data": {
            "application/vnd.jupyter.widget-view+json": {
              "model_id": "1978e1034f4a4b22bf3cd21177473ea7",
              "version_major": 2,
              "version_minor": 0
            },
            "text/plain": [
              "Validation: |          | 0/? [00:00<?, ?it/s]"
            ]
          },
          "metadata": {},
          "output_type": "display_data"
        },
        {
          "data": {
            "application/vnd.jupyter.widget-view+json": {
              "model_id": "ee0efc67814747caa2240e5d316f03e5",
              "version_major": 2,
              "version_minor": 0
            },
            "text/plain": [
              "Validation: |          | 0/? [00:00<?, ?it/s]"
            ]
          },
          "metadata": {},
          "output_type": "display_data"
        },
        {
          "data": {
            "application/vnd.jupyter.widget-view+json": {
              "model_id": "7918f7d8dd6347dc801b5116e9e011bf",
              "version_major": 2,
              "version_minor": 0
            },
            "text/plain": [
              "Validation: |          | 0/? [00:00<?, ?it/s]"
            ]
          },
          "metadata": {},
          "output_type": "display_data"
        },
        {
          "name": "stdout",
          "output_type": "stream",
          "text": [
            "ClearML Monitor: Could not detect iteration reporting, falling back to iterations as seconds-from-start\n"
          ]
        },
        {
          "data": {
            "application/vnd.jupyter.widget-view+json": {
              "model_id": "e8970bc8ff194eebaddf81b3fa0b7d74",
              "version_major": 2,
              "version_minor": 0
            },
            "text/plain": [
              "Validation: |          | 0/? [00:00<?, ?it/s]"
            ]
          },
          "metadata": {},
          "output_type": "display_data"
        },
        {
          "data": {
            "application/vnd.jupyter.widget-view+json": {
              "model_id": "2c824834b53b429babe92ce0f647fa5f",
              "version_major": 2,
              "version_minor": 0
            },
            "text/plain": [
              "Validation: |          | 0/? [00:00<?, ?it/s]"
            ]
          },
          "metadata": {},
          "output_type": "display_data"
        },
        {
          "data": {
            "application/vnd.jupyter.widget-view+json": {
              "model_id": "262ab317b4fa4b6ca0c564077efb2887",
              "version_major": 2,
              "version_minor": 0
            },
            "text/plain": [
              "Validation: |          | 0/? [00:00<?, ?it/s]"
            ]
          },
          "metadata": {},
          "output_type": "display_data"
        },
        {
          "data": {
            "application/vnd.jupyter.widget-view+json": {
              "model_id": "98b91875a11a42999f8a9831fba19d0b",
              "version_major": 2,
              "version_minor": 0
            },
            "text/plain": [
              "Validation: |          | 0/? [00:00<?, ?it/s]"
            ]
          },
          "metadata": {},
          "output_type": "display_data"
        },
        {
          "data": {
            "application/vnd.jupyter.widget-view+json": {
              "model_id": "68424c2d2be9471aba887f7632a42cff",
              "version_major": 2,
              "version_minor": 0
            },
            "text/plain": [
              "Validation: |          | 0/? [00:00<?, ?it/s]"
            ]
          },
          "metadata": {},
          "output_type": "display_data"
        },
        {
          "data": {
            "application/vnd.jupyter.widget-view+json": {
              "model_id": "1a545b90cb6e4c499cd04c7b73dbe76b",
              "version_major": 2,
              "version_minor": 0
            },
            "text/plain": [
              "Validation: |          | 0/? [00:00<?, ?it/s]"
            ]
          },
          "metadata": {},
          "output_type": "display_data"
        },
        {
          "data": {
            "application/vnd.jupyter.widget-view+json": {
              "model_id": "7ed9dd0645484a75bf653e38dcd5f8b1",
              "version_major": 2,
              "version_minor": 0
            },
            "text/plain": [
              "Validation: |          | 0/? [00:00<?, ?it/s]"
            ]
          },
          "metadata": {},
          "output_type": "display_data"
        },
        {
          "data": {
            "application/vnd.jupyter.widget-view+json": {
              "model_id": "58b7eb0354824474bf46733473226904",
              "version_major": 2,
              "version_minor": 0
            },
            "text/plain": [
              "Validation: |          | 0/? [00:00<?, ?it/s]"
            ]
          },
          "metadata": {},
          "output_type": "display_data"
        },
        {
          "data": {
            "application/vnd.jupyter.widget-view+json": {
              "model_id": "2cd7aeb76b0b4b58ac9a27bd0b3a9f71",
              "version_major": 2,
              "version_minor": 0
            },
            "text/plain": [
              "Validation: |          | 0/? [00:00<?, ?it/s]"
            ]
          },
          "metadata": {},
          "output_type": "display_data"
        },
        {
          "data": {
            "application/vnd.jupyter.widget-view+json": {
              "model_id": "42b4eb277cf14d69bd5818668874bf06",
              "version_major": 2,
              "version_minor": 0
            },
            "text/plain": [
              "Validation: |          | 0/? [00:00<?, ?it/s]"
            ]
          },
          "metadata": {},
          "output_type": "display_data"
        },
        {
          "data": {
            "application/vnd.jupyter.widget-view+json": {
              "model_id": "54c592cd085047c7b69cf825af5390d6",
              "version_major": 2,
              "version_minor": 0
            },
            "text/plain": [
              "Validation: |          | 0/? [00:00<?, ?it/s]"
            ]
          },
          "metadata": {},
          "output_type": "display_data"
        },
        {
          "data": {
            "application/vnd.jupyter.widget-view+json": {
              "model_id": "1e5d32839c4e48848dd6c14d409e7983",
              "version_major": 2,
              "version_minor": 0
            },
            "text/plain": [
              "Validation: |          | 0/? [00:00<?, ?it/s]"
            ]
          },
          "metadata": {},
          "output_type": "display_data"
        },
        {
          "data": {
            "application/vnd.jupyter.widget-view+json": {
              "model_id": "08071e6f5e4f4b33a2039b41dc33a87b",
              "version_major": 2,
              "version_minor": 0
            },
            "text/plain": [
              "Validation: |          | 0/? [00:00<?, ?it/s]"
            ]
          },
          "metadata": {},
          "output_type": "display_data"
        },
        {
          "data": {
            "application/vnd.jupyter.widget-view+json": {
              "model_id": "229b48601c4d402ba78610c17c325b8a",
              "version_major": 2,
              "version_minor": 0
            },
            "text/plain": [
              "Validation: |          | 0/? [00:00<?, ?it/s]"
            ]
          },
          "metadata": {},
          "output_type": "display_data"
        },
        {
          "data": {
            "application/vnd.jupyter.widget-view+json": {
              "model_id": "f1eb1145f1f74babb26ae26bec291cd9",
              "version_major": 2,
              "version_minor": 0
            },
            "text/plain": [
              "Validation: |          | 0/? [00:00<?, ?it/s]"
            ]
          },
          "metadata": {},
          "output_type": "display_data"
        },
        {
          "data": {
            "application/vnd.jupyter.widget-view+json": {
              "model_id": "ffe2c388d046489a9a0cd2c71da2821c",
              "version_major": 2,
              "version_minor": 0
            },
            "text/plain": [
              "Validation: |          | 0/? [00:00<?, ?it/s]"
            ]
          },
          "metadata": {},
          "output_type": "display_data"
        },
        {
          "data": {
            "application/vnd.jupyter.widget-view+json": {
              "model_id": "4cef4e92340048a488967c53cd98142b",
              "version_major": 2,
              "version_minor": 0
            },
            "text/plain": [
              "Validation: |          | 0/? [00:00<?, ?it/s]"
            ]
          },
          "metadata": {},
          "output_type": "display_data"
        },
        {
          "name": "stderr",
          "output_type": "stream",
          "text": [
            "`Trainer.fit` stopped: `max_epochs=20` reached.\n",
            "c:\\Users\\dnbabkov\\anaconda3\\Lib\\site-packages\\pytorch_lightning\\utilities\\parsing.py:208: UserWarning:\n",
            "\n",
            "Attribute 'model' is an instance of `nn.Module` and is already saved during checkpointing. It is recommended to ignore them using `self.save_hyperparameters(ignore=['model'])`.\n",
            "\n",
            "c:\\Users\\dnbabkov\\anaconda3\\Lib\\site-packages\\pytorch_lightning\\utilities\\parsing.py:208: UserWarning:\n",
            "\n",
            "Attribute 'loss' is an instance of `nn.Module` and is already saved during checkpointing. It is recommended to ignore them using `self.save_hyperparameters(ignore=['loss'])`.\n",
            "\n",
            "█████████████████████████████ 100% | 269.73/269.73 MB [14:05<00:00,  2.61s/MB]: c:\\Users\\dnbabkov\\anaconda3\\Lib\\site-packages\\tqdm\\std.py:636: TqdmWarning:\n",
            "\n",
            "clamping frac to range [0, 1]\n",
            "\n",
            "█████████████████████████████ 100% | 269.73/269.73 MB [14:07<00:00,  3.14s/MB]: \n",
            "Seed set to 9\n",
            "c:\\Users\\dnbabkov\\anaconda3\\Lib\\site-packages\\torchvision\\models\\_utils.py:208: UserWarning:\n",
            "\n",
            "The parameter 'pretrained' is deprecated since 0.13 and may be removed in the future, please use 'weights' instead.\n",
            "\n",
            "c:\\Users\\dnbabkov\\anaconda3\\Lib\\site-packages\\torchvision\\models\\_utils.py:223: UserWarning:\n",
            "\n",
            "Arguments other than a weight enum or `None` for 'weights' are deprecated since 0.13 and may be removed in the future. The current behavior is equivalent to passing `weights=ResNet50_Weights.IMAGENET1K_V1`. You can also use `weights=ResNet50_Weights.DEFAULT` to get the most up-to-date weights.\n",
            "\n",
            "c:\\Users\\dnbabkov\\anaconda3\\Lib\\site-packages\\torchvision\\models\\_utils.py:223: UserWarning:\n",
            "\n",
            "Arguments other than a weight enum or `None` for 'weights' are deprecated since 0.13 and may be removed in the future. The current behavior is equivalent to passing `weights=ViT_B_16_Weights.IMAGENET1K_V1`. You can also use `weights=ViT_B_16_Weights.DEFAULT` to get the most up-to-date weights.\n",
            "\n"
          ]
        },
        {
          "name": "stdout",
          "output_type": "stream",
          "text": [
            "ClearML Task: created new task id=aa7b2021b8fe4ee089eac726253e3344\n",
            "ClearML results page: https://app.clear.ml/projects/09a9b5f5920a4cff8953c41143a493a4/experiments/aa7b2021b8fe4ee089eac726253e3344/output/log\n"
          ]
        },
        {
          "name": "stderr",
          "output_type": "stream",
          "text": [
            "Parameters must be of builtin type (General/mean[ndarray], General/std[ndarray])\n",
            "GPU available: True (cuda), used: True\n",
            "TPU available: False, using: 0 TPU cores\n",
            "HPU available: False, using: 0 HPUs\n"
          ]
        },
        {
          "name": "stdout",
          "output_type": "stream",
          "text": [
            "Files already downloaded and verified\n",
            "Files already downloaded and verified\n",
            "Files already downloaded and verified\n"
          ]
        },
        {
          "name": "stderr",
          "output_type": "stream",
          "text": [
            "Seed set to 42\n"
          ]
        },
        {
          "name": "stdout",
          "output_type": "stream",
          "text": [
            "Loaded clean_label from ./data/CIFAR-10_human.pt.\n",
            "The overall noise rate is 0.0\n"
          ]
        },
        {
          "name": "stderr",
          "output_type": "stream",
          "text": [
            "c:\\Users\\dnbabkov\\anaconda3\\Lib\\site-packages\\pytorch_lightning\\callbacks\\model_checkpoint.py:654: UserWarning:\n",
            "\n",
            "Checkpoint directory C:\\Users\\dnbabkov\\Desktop\\Innopolis\\Computer Vision\\ДЗ\\saved_models exists and is not empty.\n",
            "\n",
            "LOCAL_RANK: 0 - CUDA_VISIBLE_DEVICES: [0]\n",
            "\n",
            "  | Name    | Type     | Params | Mode \n",
            "---------------------------------------------\n",
            "0 | model   | ResNet50 | 23.5 M | train\n",
            "1 | loss_fn | BLoss    | 0      | train\n",
            "---------------------------------------------\n",
            "23.5 M    Trainable params\n",
            "0         Non-trainable params\n",
            "23.5 M    Total params\n",
            "94.122    Total estimated model params size (MB)\n",
            "153       Modules in train mode\n",
            "0         Modules in eval mode\n"
          ]
        },
        {
          "data": {
            "application/vnd.jupyter.widget-view+json": {
              "model_id": "2afbe14870fa4d57a4c4422802f6fa8a",
              "version_major": 2,
              "version_minor": 0
            },
            "text/plain": [
              "Sanity Checking: |          | 0/? [00:00<?, ?it/s]"
            ]
          },
          "metadata": {},
          "output_type": "display_data"
        },
        {
          "name": "stderr",
          "output_type": "stream",
          "text": [
            "c:\\Users\\dnbabkov\\anaconda3\\Lib\\site-packages\\pytorch_lightning\\trainer\\connectors\\data_connector.py:424: PossibleUserWarning:\n",
            "\n",
            "The 'val_dataloader' does not have many workers which may be a bottleneck. Consider increasing the value of the `num_workers` argument` to `num_workers=15` in the `DataLoader` to improve performance.\n",
            "\n",
            "c:\\Users\\dnbabkov\\anaconda3\\Lib\\site-packages\\pytorch_lightning\\trainer\\connectors\\data_connector.py:424: PossibleUserWarning:\n",
            "\n",
            "The 'train_dataloader' does not have many workers which may be a bottleneck. Consider increasing the value of the `num_workers` argument` to `num_workers=15` in the `DataLoader` to improve performance.\n",
            "\n"
          ]
        },
        {
          "data": {
            "application/vnd.jupyter.widget-view+json": {
              "model_id": "21071696b9d24265881f5a9a6f7915b6",
              "version_major": 2,
              "version_minor": 0
            },
            "text/plain": [
              "Training: |          | 0/? [00:00<?, ?it/s]"
            ]
          },
          "metadata": {},
          "output_type": "display_data"
        },
        {
          "data": {
            "application/vnd.jupyter.widget-view+json": {
              "model_id": "2ce77f77ed9f49fd9ffa3a0f58b63e42",
              "version_major": 2,
              "version_minor": 0
            },
            "text/plain": [
              "Validation: |          | 0/? [00:00<?, ?it/s]"
            ]
          },
          "metadata": {},
          "output_type": "display_data"
        },
        {
          "data": {
            "application/vnd.jupyter.widget-view+json": {
              "model_id": "6d44d4c807cb493c9eb6a3cb4d02121f",
              "version_major": 2,
              "version_minor": 0
            },
            "text/plain": [
              "Validation: |          | 0/? [00:00<?, ?it/s]"
            ]
          },
          "metadata": {},
          "output_type": "display_data"
        },
        {
          "data": {
            "application/vnd.jupyter.widget-view+json": {
              "model_id": "bfc244887cc04f9698a49cdd627dacc0",
              "version_major": 2,
              "version_minor": 0
            },
            "text/plain": [
              "Validation: |          | 0/? [00:00<?, ?it/s]"
            ]
          },
          "metadata": {},
          "output_type": "display_data"
        },
        {
          "name": "stdout",
          "output_type": "stream",
          "text": [
            "ClearML Monitor: Could not detect iteration reporting, falling back to iterations as seconds-from-start\n"
          ]
        },
        {
          "data": {
            "application/vnd.jupyter.widget-view+json": {
              "model_id": "3115c97cb70146fbb6ff9e6c15bd7197",
              "version_major": 2,
              "version_minor": 0
            },
            "text/plain": [
              "Validation: |          | 0/? [00:00<?, ?it/s]"
            ]
          },
          "metadata": {},
          "output_type": "display_data"
        },
        {
          "data": {
            "application/vnd.jupyter.widget-view+json": {
              "model_id": "88184585569642a0a9fcf022e369a714",
              "version_major": 2,
              "version_minor": 0
            },
            "text/plain": [
              "Validation: |          | 0/? [00:00<?, ?it/s]"
            ]
          },
          "metadata": {},
          "output_type": "display_data"
        },
        {
          "data": {
            "application/vnd.jupyter.widget-view+json": {
              "model_id": "d0c6a79dde254a8a82da09e2f17e512f",
              "version_major": 2,
              "version_minor": 0
            },
            "text/plain": [
              "Validation: |          | 0/? [00:00<?, ?it/s]"
            ]
          },
          "metadata": {},
          "output_type": "display_data"
        },
        {
          "data": {
            "application/vnd.jupyter.widget-view+json": {
              "model_id": "33fc31af27a349c0b6417d5c593154e7",
              "version_major": 2,
              "version_minor": 0
            },
            "text/plain": [
              "Validation: |          | 0/? [00:00<?, ?it/s]"
            ]
          },
          "metadata": {},
          "output_type": "display_data"
        },
        {
          "data": {
            "application/vnd.jupyter.widget-view+json": {
              "model_id": "15bc4694e33a4b10bd66a2c42fe3cca2",
              "version_major": 2,
              "version_minor": 0
            },
            "text/plain": [
              "Validation: |          | 0/? [00:00<?, ?it/s]"
            ]
          },
          "metadata": {},
          "output_type": "display_data"
        },
        {
          "data": {
            "application/vnd.jupyter.widget-view+json": {
              "model_id": "2750a5511323466685da6dc98a007c29",
              "version_major": 2,
              "version_minor": 0
            },
            "text/plain": [
              "Validation: |          | 0/? [00:00<?, ?it/s]"
            ]
          },
          "metadata": {},
          "output_type": "display_data"
        },
        {
          "data": {
            "application/vnd.jupyter.widget-view+json": {
              "model_id": "ac12839075254067b87d2ce2cd84c33a",
              "version_major": 2,
              "version_minor": 0
            },
            "text/plain": [
              "Validation: |          | 0/? [00:00<?, ?it/s]"
            ]
          },
          "metadata": {},
          "output_type": "display_data"
        },
        {
          "data": {
            "application/vnd.jupyter.widget-view+json": {
              "model_id": "63887993606e426aa9cf737908fa0575",
              "version_major": 2,
              "version_minor": 0
            },
            "text/plain": [
              "Validation: |          | 0/? [00:00<?, ?it/s]"
            ]
          },
          "metadata": {},
          "output_type": "display_data"
        },
        {
          "data": {
            "application/vnd.jupyter.widget-view+json": {
              "model_id": "32675b8aa0bb4bc5bfd4f171bed1c81d",
              "version_major": 2,
              "version_minor": 0
            },
            "text/plain": [
              "Validation: |          | 0/? [00:00<?, ?it/s]"
            ]
          },
          "metadata": {},
          "output_type": "display_data"
        },
        {
          "data": {
            "application/vnd.jupyter.widget-view+json": {
              "model_id": "06e6249f2d534cc4b5c77270568ee7ed",
              "version_major": 2,
              "version_minor": 0
            },
            "text/plain": [
              "Validation: |          | 0/? [00:00<?, ?it/s]"
            ]
          },
          "metadata": {},
          "output_type": "display_data"
        },
        {
          "data": {
            "application/vnd.jupyter.widget-view+json": {
              "model_id": "2512f6ba13474d9a87bfc909da0ec8b3",
              "version_major": 2,
              "version_minor": 0
            },
            "text/plain": [
              "Validation: |          | 0/? [00:00<?, ?it/s]"
            ]
          },
          "metadata": {},
          "output_type": "display_data"
        },
        {
          "data": {
            "application/vnd.jupyter.widget-view+json": {
              "model_id": "2f6b2e76031a4847a4aab61f2b2936a6",
              "version_major": 2,
              "version_minor": 0
            },
            "text/plain": [
              "Validation: |          | 0/? [00:00<?, ?it/s]"
            ]
          },
          "metadata": {},
          "output_type": "display_data"
        },
        {
          "data": {
            "application/vnd.jupyter.widget-view+json": {
              "model_id": "4ec5db6b09f743ff8b2e5d05b17f1195",
              "version_major": 2,
              "version_minor": 0
            },
            "text/plain": [
              "Validation: |          | 0/? [00:00<?, ?it/s]"
            ]
          },
          "metadata": {},
          "output_type": "display_data"
        },
        {
          "data": {
            "application/vnd.jupyter.widget-view+json": {
              "model_id": "4eeaae739ba749be82d016b6d07cd169",
              "version_major": 2,
              "version_minor": 0
            },
            "text/plain": [
              "Validation: |          | 0/? [00:00<?, ?it/s]"
            ]
          },
          "metadata": {},
          "output_type": "display_data"
        },
        {
          "data": {
            "application/vnd.jupyter.widget-view+json": {
              "model_id": "6f7c5e2ded454a1683196f6b6d4dcb8d",
              "version_major": 2,
              "version_minor": 0
            },
            "text/plain": [
              "Validation: |          | 0/? [00:00<?, ?it/s]"
            ]
          },
          "metadata": {},
          "output_type": "display_data"
        },
        {
          "data": {
            "application/vnd.jupyter.widget-view+json": {
              "model_id": "2c6910e962e748aab0d46531bf4a3405",
              "version_major": 2,
              "version_minor": 0
            },
            "text/plain": [
              "Validation: |          | 0/? [00:00<?, ?it/s]"
            ]
          },
          "metadata": {},
          "output_type": "display_data"
        },
        {
          "data": {
            "application/vnd.jupyter.widget-view+json": {
              "model_id": "3f31bb1aaaa54cf98ea8c774e718d586",
              "version_major": 2,
              "version_minor": 0
            },
            "text/plain": [
              "Validation: |          | 0/? [00:00<?, ?it/s]"
            ]
          },
          "metadata": {},
          "output_type": "display_data"
        },
        {
          "name": "stderr",
          "output_type": "stream",
          "text": [
            "`Trainer.fit` stopped: `max_epochs=20` reached.\n",
            "c:\\Users\\dnbabkov\\anaconda3\\Lib\\site-packages\\pytorch_lightning\\utilities\\parsing.py:208: UserWarning:\n",
            "\n",
            "Attribute 'model' is an instance of `nn.Module` and is already saved during checkpointing. It is recommended to ignore them using `self.save_hyperparameters(ignore=['model'])`.\n",
            "\n",
            "c:\\Users\\dnbabkov\\anaconda3\\Lib\\site-packages\\pytorch_lightning\\utilities\\parsing.py:208: UserWarning:\n",
            "\n",
            "Attribute 'loss' is an instance of `nn.Module` and is already saved during checkpointing. It is recommended to ignore them using `self.save_hyperparameters(ignore=['loss'])`.\n",
            "\n",
            "█████████████████████████████ 100% | 269.73/269.73 MB [12:40<00:00,  3.07s/MB]: c:\\Users\\dnbabkov\\anaconda3\\Lib\\site-packages\\tqdm\\std.py:636: TqdmWarning:\n",
            "\n",
            "clamping frac to range [0, 1]\n",
            "\n",
            "█████████████████████████████ 100% | 269.73/269.73 MB [12:42<00:00,  2.83s/MB]: \n",
            "Seed set to 3\n",
            "c:\\Users\\dnbabkov\\anaconda3\\Lib\\site-packages\\torchvision\\models\\_utils.py:208: UserWarning:\n",
            "\n",
            "The parameter 'pretrained' is deprecated since 0.13 and may be removed in the future, please use 'weights' instead.\n",
            "\n",
            "c:\\Users\\dnbabkov\\anaconda3\\Lib\\site-packages\\torchvision\\models\\_utils.py:223: UserWarning:\n",
            "\n",
            "Arguments other than a weight enum or `None` for 'weights' are deprecated since 0.13 and may be removed in the future. The current behavior is equivalent to passing `weights=ResNet50_Weights.IMAGENET1K_V1`. You can also use `weights=ResNet50_Weights.DEFAULT` to get the most up-to-date weights.\n",
            "\n",
            "c:\\Users\\dnbabkov\\anaconda3\\Lib\\site-packages\\torchvision\\models\\_utils.py:223: UserWarning:\n",
            "\n",
            "Arguments other than a weight enum or `None` for 'weights' are deprecated since 0.13 and may be removed in the future. The current behavior is equivalent to passing `weights=ViT_B_16_Weights.IMAGENET1K_V1`. You can also use `weights=ViT_B_16_Weights.DEFAULT` to get the most up-to-date weights.\n",
            "\n"
          ]
        },
        {
          "name": "stdout",
          "output_type": "stream",
          "text": [
            "ClearML Task: created new task id=d44aa1b5f92f443aaa8b7fa71be2e558\n",
            "ClearML results page: https://app.clear.ml/projects/09a9b5f5920a4cff8953c41143a493a4/experiments/d44aa1b5f92f443aaa8b7fa71be2e558/output/log\n"
          ]
        },
        {
          "name": "stderr",
          "output_type": "stream",
          "text": [
            "Parameters must be of builtin type (General/mean[ndarray], General/std[ndarray])\n",
            "GPU available: True (cuda), used: True\n",
            "TPU available: False, using: 0 TPU cores\n",
            "HPU available: False, using: 0 HPUs\n"
          ]
        },
        {
          "name": "stdout",
          "output_type": "stream",
          "text": [
            "Files already downloaded and verified\n",
            "Files already downloaded and verified\n",
            "Files already downloaded and verified\n"
          ]
        },
        {
          "name": "stderr",
          "output_type": "stream",
          "text": [
            "Seed set to 42\n"
          ]
        },
        {
          "name": "stdout",
          "output_type": "stream",
          "text": [
            "Loaded clean_label from ./data/CIFAR-10_human.pt.\n",
            "The overall noise rate is 0.0\n"
          ]
        },
        {
          "name": "stderr",
          "output_type": "stream",
          "text": [
            "c:\\Users\\dnbabkov\\anaconda3\\Lib\\site-packages\\pytorch_lightning\\callbacks\\model_checkpoint.py:654: UserWarning:\n",
            "\n",
            "Checkpoint directory C:\\Users\\dnbabkov\\Desktop\\Innopolis\\Computer Vision\\ДЗ\\saved_models exists and is not empty.\n",
            "\n",
            "LOCAL_RANK: 0 - CUDA_VISIBLE_DEVICES: [0]\n",
            "\n",
            "  | Name    | Type     | Params | Mode \n",
            "---------------------------------------------\n",
            "0 | model   | ResNet50 | 23.5 M | train\n",
            "1 | loss_fn | BLoss    | 0      | train\n",
            "---------------------------------------------\n",
            "23.5 M    Trainable params\n",
            "0         Non-trainable params\n",
            "23.5 M    Total params\n",
            "94.122    Total estimated model params size (MB)\n",
            "153       Modules in train mode\n",
            "0         Modules in eval mode\n"
          ]
        },
        {
          "data": {
            "application/vnd.jupyter.widget-view+json": {
              "model_id": "d24b38a7e9c3456d93650ed30e85dfa9",
              "version_major": 2,
              "version_minor": 0
            },
            "text/plain": [
              "Sanity Checking: |          | 0/? [00:00<?, ?it/s]"
            ]
          },
          "metadata": {},
          "output_type": "display_data"
        },
        {
          "name": "stderr",
          "output_type": "stream",
          "text": [
            "c:\\Users\\dnbabkov\\anaconda3\\Lib\\site-packages\\pytorch_lightning\\trainer\\connectors\\data_connector.py:424: PossibleUserWarning:\n",
            "\n",
            "The 'val_dataloader' does not have many workers which may be a bottleneck. Consider increasing the value of the `num_workers` argument` to `num_workers=15` in the `DataLoader` to improve performance.\n",
            "\n",
            "c:\\Users\\dnbabkov\\anaconda3\\Lib\\site-packages\\pytorch_lightning\\trainer\\connectors\\data_connector.py:424: PossibleUserWarning:\n",
            "\n",
            "The 'train_dataloader' does not have many workers which may be a bottleneck. Consider increasing the value of the `num_workers` argument` to `num_workers=15` in the `DataLoader` to improve performance.\n",
            "\n"
          ]
        },
        {
          "data": {
            "application/vnd.jupyter.widget-view+json": {
              "model_id": "da7b4a1cb54d4e6ba5e3837d5b7ed235",
              "version_major": 2,
              "version_minor": 0
            },
            "text/plain": [
              "Training: |          | 0/? [00:00<?, ?it/s]"
            ]
          },
          "metadata": {},
          "output_type": "display_data"
        },
        {
          "data": {
            "application/vnd.jupyter.widget-view+json": {
              "model_id": "91f3ccba26bd43298e8ee4bb645b7876",
              "version_major": 2,
              "version_minor": 0
            },
            "text/plain": [
              "Validation: |          | 0/? [00:00<?, ?it/s]"
            ]
          },
          "metadata": {},
          "output_type": "display_data"
        },
        {
          "data": {
            "application/vnd.jupyter.widget-view+json": {
              "model_id": "7d1031e2b6f84f35bcbf44e5dca498e0",
              "version_major": 2,
              "version_minor": 0
            },
            "text/plain": [
              "Validation: |          | 0/? [00:00<?, ?it/s]"
            ]
          },
          "metadata": {},
          "output_type": "display_data"
        },
        {
          "data": {
            "application/vnd.jupyter.widget-view+json": {
              "model_id": "32b37a95d33c4c3cb6c701cb20f470b9",
              "version_major": 2,
              "version_minor": 0
            },
            "text/plain": [
              "Validation: |          | 0/? [00:00<?, ?it/s]"
            ]
          },
          "metadata": {},
          "output_type": "display_data"
        },
        {
          "data": {
            "application/vnd.jupyter.widget-view+json": {
              "model_id": "10cae5c4c1844c22b74e8e913bf6d778",
              "version_major": 2,
              "version_minor": 0
            },
            "text/plain": [
              "Validation: |          | 0/? [00:00<?, ?it/s]"
            ]
          },
          "metadata": {},
          "output_type": "display_data"
        },
        {
          "name": "stdout",
          "output_type": "stream",
          "text": [
            "ClearML Monitor: Could not detect iteration reporting, falling back to iterations as seconds-from-start\n"
          ]
        },
        {
          "data": {
            "application/vnd.jupyter.widget-view+json": {
              "model_id": "00a7b4faa4ed4f0bae19afaff8895369",
              "version_major": 2,
              "version_minor": 0
            },
            "text/plain": [
              "Validation: |          | 0/? [00:00<?, ?it/s]"
            ]
          },
          "metadata": {},
          "output_type": "display_data"
        },
        {
          "data": {
            "application/vnd.jupyter.widget-view+json": {
              "model_id": "6612386b8dcb46ff9fd7858497fdf887",
              "version_major": 2,
              "version_minor": 0
            },
            "text/plain": [
              "Validation: |          | 0/? [00:00<?, ?it/s]"
            ]
          },
          "metadata": {},
          "output_type": "display_data"
        },
        {
          "data": {
            "application/vnd.jupyter.widget-view+json": {
              "model_id": "773539c8145644fba5ccf4ae67c8a6a0",
              "version_major": 2,
              "version_minor": 0
            },
            "text/plain": [
              "Validation: |          | 0/? [00:00<?, ?it/s]"
            ]
          },
          "metadata": {},
          "output_type": "display_data"
        },
        {
          "data": {
            "application/vnd.jupyter.widget-view+json": {
              "model_id": "afb91c4014c3405880a439e1df945b11",
              "version_major": 2,
              "version_minor": 0
            },
            "text/plain": [
              "Validation: |          | 0/? [00:00<?, ?it/s]"
            ]
          },
          "metadata": {},
          "output_type": "display_data"
        },
        {
          "data": {
            "application/vnd.jupyter.widget-view+json": {
              "model_id": "e53e6aed946f44c39ad62fc67db09c2c",
              "version_major": 2,
              "version_minor": 0
            },
            "text/plain": [
              "Validation: |          | 0/? [00:00<?, ?it/s]"
            ]
          },
          "metadata": {},
          "output_type": "display_data"
        },
        {
          "data": {
            "application/vnd.jupyter.widget-view+json": {
              "model_id": "4e045adb2f28499b9c70ea9596a6339d",
              "version_major": 2,
              "version_minor": 0
            },
            "text/plain": [
              "Validation: |          | 0/? [00:00<?, ?it/s]"
            ]
          },
          "metadata": {},
          "output_type": "display_data"
        },
        {
          "data": {
            "application/vnd.jupyter.widget-view+json": {
              "model_id": "f64b73dbf84f4a32a5f207d830b2863b",
              "version_major": 2,
              "version_minor": 0
            },
            "text/plain": [
              "Validation: |          | 0/? [00:00<?, ?it/s]"
            ]
          },
          "metadata": {},
          "output_type": "display_data"
        },
        {
          "data": {
            "application/vnd.jupyter.widget-view+json": {
              "model_id": "471a7c839c5a4df08d29a1d5b97d0477",
              "version_major": 2,
              "version_minor": 0
            },
            "text/plain": [
              "Validation: |          | 0/? [00:00<?, ?it/s]"
            ]
          },
          "metadata": {},
          "output_type": "display_data"
        },
        {
          "data": {
            "application/vnd.jupyter.widget-view+json": {
              "model_id": "c0bc896a17d14c80a36a76e85a523d40",
              "version_major": 2,
              "version_minor": 0
            },
            "text/plain": [
              "Validation: |          | 0/? [00:00<?, ?it/s]"
            ]
          },
          "metadata": {},
          "output_type": "display_data"
        },
        {
          "data": {
            "application/vnd.jupyter.widget-view+json": {
              "model_id": "572caaa0fdb54dc28d8c7244e1971fa9",
              "version_major": 2,
              "version_minor": 0
            },
            "text/plain": [
              "Validation: |          | 0/? [00:00<?, ?it/s]"
            ]
          },
          "metadata": {},
          "output_type": "display_data"
        },
        {
          "data": {
            "application/vnd.jupyter.widget-view+json": {
              "model_id": "f7c614fdb6474067848f9829a0abdbcb",
              "version_major": 2,
              "version_minor": 0
            },
            "text/plain": [
              "Validation: |          | 0/? [00:00<?, ?it/s]"
            ]
          },
          "metadata": {},
          "output_type": "display_data"
        },
        {
          "data": {
            "application/vnd.jupyter.widget-view+json": {
              "model_id": "07748e8f5cef4217b9274144448c76cc",
              "version_major": 2,
              "version_minor": 0
            },
            "text/plain": [
              "Validation: |          | 0/? [00:00<?, ?it/s]"
            ]
          },
          "metadata": {},
          "output_type": "display_data"
        },
        {
          "data": {
            "application/vnd.jupyter.widget-view+json": {
              "model_id": "a24f042133c54ce0b7daf4dde86081cf",
              "version_major": 2,
              "version_minor": 0
            },
            "text/plain": [
              "Validation: |          | 0/? [00:00<?, ?it/s]"
            ]
          },
          "metadata": {},
          "output_type": "display_data"
        },
        {
          "data": {
            "application/vnd.jupyter.widget-view+json": {
              "model_id": "e951e47069c342ee9ccc8bf146e50562",
              "version_major": 2,
              "version_minor": 0
            },
            "text/plain": [
              "Validation: |          | 0/? [00:00<?, ?it/s]"
            ]
          },
          "metadata": {},
          "output_type": "display_data"
        },
        {
          "data": {
            "application/vnd.jupyter.widget-view+json": {
              "model_id": "b16b123666c74c4c981169548f9cfbe8",
              "version_major": 2,
              "version_minor": 0
            },
            "text/plain": [
              "Validation: |          | 0/? [00:00<?, ?it/s]"
            ]
          },
          "metadata": {},
          "output_type": "display_data"
        },
        {
          "data": {
            "application/vnd.jupyter.widget-view+json": {
              "model_id": "9c6c213f6c23464fa62b6706af51b415",
              "version_major": 2,
              "version_minor": 0
            },
            "text/plain": [
              "Validation: |          | 0/? [00:00<?, ?it/s]"
            ]
          },
          "metadata": {},
          "output_type": "display_data"
        },
        {
          "name": "stderr",
          "output_type": "stream",
          "text": [
            "`Trainer.fit` stopped: `max_epochs=20` reached.\n",
            "c:\\Users\\dnbabkov\\anaconda3\\Lib\\site-packages\\pytorch_lightning\\utilities\\parsing.py:208: UserWarning:\n",
            "\n",
            "Attribute 'model' is an instance of `nn.Module` and is already saved during checkpointing. It is recommended to ignore them using `self.save_hyperparameters(ignore=['model'])`.\n",
            "\n",
            "c:\\Users\\dnbabkov\\anaconda3\\Lib\\site-packages\\pytorch_lightning\\utilities\\parsing.py:208: UserWarning:\n",
            "\n",
            "Attribute 'loss' is an instance of `nn.Module` and is already saved during checkpointing. It is recommended to ignore them using `self.save_hyperparameters(ignore=['loss'])`.\n",
            "\n",
            "█████████████████████████████ 100% | 269.73/269.73 MB [12:14<00:00,  2.77s/MB]: c:\\Users\\dnbabkov\\anaconda3\\Lib\\site-packages\\tqdm\\std.py:636: TqdmWarning:\n",
            "\n",
            "clamping frac to range [0, 1]\n",
            "\n",
            "█████████████████████████████ 100% | 269.73/269.73 MB [12:16<00:00,  2.73s/MB]: \n",
            "Seed set to 16\n",
            "c:\\Users\\dnbabkov\\anaconda3\\Lib\\site-packages\\torchvision\\models\\_utils.py:208: UserWarning:\n",
            "\n",
            "The parameter 'pretrained' is deprecated since 0.13 and may be removed in the future, please use 'weights' instead.\n",
            "\n",
            "c:\\Users\\dnbabkov\\anaconda3\\Lib\\site-packages\\torchvision\\models\\_utils.py:223: UserWarning:\n",
            "\n",
            "Arguments other than a weight enum or `None` for 'weights' are deprecated since 0.13 and may be removed in the future. The current behavior is equivalent to passing `weights=ResNet50_Weights.IMAGENET1K_V1`. You can also use `weights=ResNet50_Weights.DEFAULT` to get the most up-to-date weights.\n",
            "\n",
            "c:\\Users\\dnbabkov\\anaconda3\\Lib\\site-packages\\torchvision\\models\\_utils.py:223: UserWarning:\n",
            "\n",
            "Arguments other than a weight enum or `None` for 'weights' are deprecated since 0.13 and may be removed in the future. The current behavior is equivalent to passing `weights=ViT_B_16_Weights.IMAGENET1K_V1`. You can also use `weights=ViT_B_16_Weights.DEFAULT` to get the most up-to-date weights.\n",
            "\n"
          ]
        },
        {
          "name": "stdout",
          "output_type": "stream",
          "text": [
            "ClearML Task: created new task id=fbc268a149e44f439cca575481ac0a56\n",
            "ClearML results page: https://app.clear.ml/projects/09a9b5f5920a4cff8953c41143a493a4/experiments/fbc268a149e44f439cca575481ac0a56/output/log\n"
          ]
        },
        {
          "name": "stderr",
          "output_type": "stream",
          "text": [
            "Parameters must be of builtin type (General/mean[ndarray], General/std[ndarray])\n",
            "GPU available: True (cuda), used: True\n",
            "TPU available: False, using: 0 TPU cores\n",
            "HPU available: False, using: 0 HPUs\n"
          ]
        },
        {
          "name": "stdout",
          "output_type": "stream",
          "text": [
            "Files already downloaded and verified\n",
            "Files already downloaded and verified\n",
            "Files already downloaded and verified\n"
          ]
        },
        {
          "name": "stderr",
          "output_type": "stream",
          "text": [
            "Seed set to 42\n"
          ]
        },
        {
          "name": "stdout",
          "output_type": "stream",
          "text": [
            "Loaded clean_label from ./data/CIFAR-10_human.pt.\n",
            "The overall noise rate is 0.0\n"
          ]
        },
        {
          "name": "stderr",
          "output_type": "stream",
          "text": [
            "c:\\Users\\dnbabkov\\anaconda3\\Lib\\site-packages\\pytorch_lightning\\callbacks\\model_checkpoint.py:654: UserWarning:\n",
            "\n",
            "Checkpoint directory C:\\Users\\dnbabkov\\Desktop\\Innopolis\\Computer Vision\\ДЗ\\saved_models exists and is not empty.\n",
            "\n",
            "LOCAL_RANK: 0 - CUDA_VISIBLE_DEVICES: [0]\n",
            "\n",
            "  | Name    | Type     | Params | Mode \n",
            "---------------------------------------------\n",
            "0 | model   | ResNet50 | 23.5 M | train\n",
            "1 | loss_fn | BLoss    | 0      | train\n",
            "---------------------------------------------\n",
            "23.5 M    Trainable params\n",
            "0         Non-trainable params\n",
            "23.5 M    Total params\n",
            "94.122    Total estimated model params size (MB)\n",
            "153       Modules in train mode\n",
            "0         Modules in eval mode\n"
          ]
        },
        {
          "data": {
            "application/vnd.jupyter.widget-view+json": {
              "model_id": "196693c60f534b9cb637a31e86c3bcfe",
              "version_major": 2,
              "version_minor": 0
            },
            "text/plain": [
              "Sanity Checking: |          | 0/? [00:00<?, ?it/s]"
            ]
          },
          "metadata": {},
          "output_type": "display_data"
        },
        {
          "name": "stderr",
          "output_type": "stream",
          "text": [
            "c:\\Users\\dnbabkov\\anaconda3\\Lib\\site-packages\\pytorch_lightning\\trainer\\connectors\\data_connector.py:424: PossibleUserWarning:\n",
            "\n",
            "The 'val_dataloader' does not have many workers which may be a bottleneck. Consider increasing the value of the `num_workers` argument` to `num_workers=15` in the `DataLoader` to improve performance.\n",
            "\n",
            "c:\\Users\\dnbabkov\\anaconda3\\Lib\\site-packages\\pytorch_lightning\\trainer\\connectors\\data_connector.py:424: PossibleUserWarning:\n",
            "\n",
            "The 'train_dataloader' does not have many workers which may be a bottleneck. Consider increasing the value of the `num_workers` argument` to `num_workers=15` in the `DataLoader` to improve performance.\n",
            "\n"
          ]
        },
        {
          "data": {
            "application/vnd.jupyter.widget-view+json": {
              "model_id": "101304462d884e79b52eefbea15be490",
              "version_major": 2,
              "version_minor": 0
            },
            "text/plain": [
              "Training: |          | 0/? [00:00<?, ?it/s]"
            ]
          },
          "metadata": {},
          "output_type": "display_data"
        },
        {
          "data": {
            "application/vnd.jupyter.widget-view+json": {
              "model_id": "dc56ffb686464322a611eb0a073e6994",
              "version_major": 2,
              "version_minor": 0
            },
            "text/plain": [
              "Validation: |          | 0/? [00:00<?, ?it/s]"
            ]
          },
          "metadata": {},
          "output_type": "display_data"
        },
        {
          "data": {
            "application/vnd.jupyter.widget-view+json": {
              "model_id": "60faf598fa674ebaae968fb246eaa596",
              "version_major": 2,
              "version_minor": 0
            },
            "text/plain": [
              "Validation: |          | 0/? [00:00<?, ?it/s]"
            ]
          },
          "metadata": {},
          "output_type": "display_data"
        },
        {
          "data": {
            "application/vnd.jupyter.widget-view+json": {
              "model_id": "7c46e878cf514aeab106156387eacef0",
              "version_major": 2,
              "version_minor": 0
            },
            "text/plain": [
              "Validation: |          | 0/? [00:00<?, ?it/s]"
            ]
          },
          "metadata": {},
          "output_type": "display_data"
        },
        {
          "name": "stdout",
          "output_type": "stream",
          "text": [
            "ClearML Monitor: Could not detect iteration reporting, falling back to iterations as seconds-from-start\n"
          ]
        },
        {
          "data": {
            "application/vnd.jupyter.widget-view+json": {
              "model_id": "419f3ac61e3c421ca50918f560c56ab2",
              "version_major": 2,
              "version_minor": 0
            },
            "text/plain": [
              "Validation: |          | 0/? [00:00<?, ?it/s]"
            ]
          },
          "metadata": {},
          "output_type": "display_data"
        },
        {
          "data": {
            "application/vnd.jupyter.widget-view+json": {
              "model_id": "91ae6917891347b084b408780273f57d",
              "version_major": 2,
              "version_minor": 0
            },
            "text/plain": [
              "Validation: |          | 0/? [00:00<?, ?it/s]"
            ]
          },
          "metadata": {},
          "output_type": "display_data"
        },
        {
          "data": {
            "application/vnd.jupyter.widget-view+json": {
              "model_id": "51a1862353d3483187eba5a8be862e99",
              "version_major": 2,
              "version_minor": 0
            },
            "text/plain": [
              "Validation: |          | 0/? [00:00<?, ?it/s]"
            ]
          },
          "metadata": {},
          "output_type": "display_data"
        },
        {
          "data": {
            "application/vnd.jupyter.widget-view+json": {
              "model_id": "60017420b06e44cdb01679f8293963fe",
              "version_major": 2,
              "version_minor": 0
            },
            "text/plain": [
              "Validation: |          | 0/? [00:00<?, ?it/s]"
            ]
          },
          "metadata": {},
          "output_type": "display_data"
        },
        {
          "data": {
            "application/vnd.jupyter.widget-view+json": {
              "model_id": "fe26d2c6809247f192dcd3fd4f6f0598",
              "version_major": 2,
              "version_minor": 0
            },
            "text/plain": [
              "Validation: |          | 0/? [00:00<?, ?it/s]"
            ]
          },
          "metadata": {},
          "output_type": "display_data"
        },
        {
          "data": {
            "application/vnd.jupyter.widget-view+json": {
              "model_id": "75f97b6451c347edb3565901accad17e",
              "version_major": 2,
              "version_minor": 0
            },
            "text/plain": [
              "Validation: |          | 0/? [00:00<?, ?it/s]"
            ]
          },
          "metadata": {},
          "output_type": "display_data"
        },
        {
          "data": {
            "application/vnd.jupyter.widget-view+json": {
              "model_id": "c2caf12f8bed4e7090019213d974de84",
              "version_major": 2,
              "version_minor": 0
            },
            "text/plain": [
              "Validation: |          | 0/? [00:00<?, ?it/s]"
            ]
          },
          "metadata": {},
          "output_type": "display_data"
        },
        {
          "data": {
            "application/vnd.jupyter.widget-view+json": {
              "model_id": "faeb0f278c3a4cc6a39f0a16c5878f24",
              "version_major": 2,
              "version_minor": 0
            },
            "text/plain": [
              "Validation: |          | 0/? [00:00<?, ?it/s]"
            ]
          },
          "metadata": {},
          "output_type": "display_data"
        },
        {
          "data": {
            "application/vnd.jupyter.widget-view+json": {
              "model_id": "1f0f447a0b0843c791eb83b8d0729c8e",
              "version_major": 2,
              "version_minor": 0
            },
            "text/plain": [
              "Validation: |          | 0/? [00:00<?, ?it/s]"
            ]
          },
          "metadata": {},
          "output_type": "display_data"
        },
        {
          "data": {
            "application/vnd.jupyter.widget-view+json": {
              "model_id": "c96705d37d4b460c96b9dbe5b33149aa",
              "version_major": 2,
              "version_minor": 0
            },
            "text/plain": [
              "Validation: |          | 0/? [00:00<?, ?it/s]"
            ]
          },
          "metadata": {},
          "output_type": "display_data"
        },
        {
          "data": {
            "application/vnd.jupyter.widget-view+json": {
              "model_id": "53fbdc2900fd4e219ebcb3fb5638300e",
              "version_major": 2,
              "version_minor": 0
            },
            "text/plain": [
              "Validation: |          | 0/? [00:00<?, ?it/s]"
            ]
          },
          "metadata": {},
          "output_type": "display_data"
        },
        {
          "data": {
            "application/vnd.jupyter.widget-view+json": {
              "model_id": "527b250a8d17405597f3e18f420029cb",
              "version_major": 2,
              "version_minor": 0
            },
            "text/plain": [
              "Validation: |          | 0/? [00:00<?, ?it/s]"
            ]
          },
          "metadata": {},
          "output_type": "display_data"
        },
        {
          "data": {
            "application/vnd.jupyter.widget-view+json": {
              "model_id": "3ccf99d50d5c42d1aaa95727488840c9",
              "version_major": 2,
              "version_minor": 0
            },
            "text/plain": [
              "Validation: |          | 0/? [00:00<?, ?it/s]"
            ]
          },
          "metadata": {},
          "output_type": "display_data"
        },
        {
          "data": {
            "application/vnd.jupyter.widget-view+json": {
              "model_id": "4ad9a59a9800400580480078feaa0fde",
              "version_major": 2,
              "version_minor": 0
            },
            "text/plain": [
              "Validation: |          | 0/? [00:00<?, ?it/s]"
            ]
          },
          "metadata": {},
          "output_type": "display_data"
        },
        {
          "data": {
            "application/vnd.jupyter.widget-view+json": {
              "model_id": "77703523fe134e3893da9d32dcb11e62",
              "version_major": 2,
              "version_minor": 0
            },
            "text/plain": [
              "Validation: |          | 0/? [00:00<?, ?it/s]"
            ]
          },
          "metadata": {},
          "output_type": "display_data"
        },
        {
          "data": {
            "application/vnd.jupyter.widget-view+json": {
              "model_id": "83077e75b42d4315a12dc55f13a6a79b",
              "version_major": 2,
              "version_minor": 0
            },
            "text/plain": [
              "Validation: |          | 0/? [00:00<?, ?it/s]"
            ]
          },
          "metadata": {},
          "output_type": "display_data"
        },
        {
          "data": {
            "application/vnd.jupyter.widget-view+json": {
              "model_id": "a6e0cc5c01c445d591f03feb85fb25cd",
              "version_major": 2,
              "version_minor": 0
            },
            "text/plain": [
              "Validation: |          | 0/? [00:00<?, ?it/s]"
            ]
          },
          "metadata": {},
          "output_type": "display_data"
        },
        {
          "name": "stderr",
          "output_type": "stream",
          "text": [
            "`Trainer.fit` stopped: `max_epochs=20` reached.\n",
            "c:\\Users\\dnbabkov\\anaconda3\\Lib\\site-packages\\pytorch_lightning\\utilities\\parsing.py:208: UserWarning:\n",
            "\n",
            "Attribute 'model' is an instance of `nn.Module` and is already saved during checkpointing. It is recommended to ignore them using `self.save_hyperparameters(ignore=['model'])`.\n",
            "\n",
            "c:\\Users\\dnbabkov\\anaconda3\\Lib\\site-packages\\pytorch_lightning\\utilities\\parsing.py:208: UserWarning:\n",
            "\n",
            "Attribute 'loss' is an instance of `nn.Module` and is already saved during checkpointing. It is recommended to ignore them using `self.save_hyperparameters(ignore=['loss'])`.\n",
            "\n",
            "█████████████████████████████ 100% | 269.73/269.73 MB [11:35<00:00,  2.43s/MB]: c:\\Users\\dnbabkov\\anaconda3\\Lib\\site-packages\\tqdm\\std.py:636: TqdmWarning:\n",
            "\n",
            "clamping frac to range [0, 1]\n",
            "\n",
            "█████████████████████████████ 100% | 269.73/269.73 MB [11:37<00:00,  2.59s/MB]: \n",
            "Seed set to 2\n",
            "c:\\Users\\dnbabkov\\anaconda3\\Lib\\site-packages\\torchvision\\models\\_utils.py:208: UserWarning:\n",
            "\n",
            "The parameter 'pretrained' is deprecated since 0.13 and may be removed in the future, please use 'weights' instead.\n",
            "\n",
            "c:\\Users\\dnbabkov\\anaconda3\\Lib\\site-packages\\torchvision\\models\\_utils.py:223: UserWarning:\n",
            "\n",
            "Arguments other than a weight enum or `None` for 'weights' are deprecated since 0.13 and may be removed in the future. The current behavior is equivalent to passing `weights=ResNet50_Weights.IMAGENET1K_V1`. You can also use `weights=ResNet50_Weights.DEFAULT` to get the most up-to-date weights.\n",
            "\n",
            "c:\\Users\\dnbabkov\\anaconda3\\Lib\\site-packages\\torchvision\\models\\_utils.py:223: UserWarning:\n",
            "\n",
            "Arguments other than a weight enum or `None` for 'weights' are deprecated since 0.13 and may be removed in the future. The current behavior is equivalent to passing `weights=ViT_B_16_Weights.IMAGENET1K_V1`. You can also use `weights=ViT_B_16_Weights.DEFAULT` to get the most up-to-date weights.\n",
            "\n"
          ]
        },
        {
          "name": "stdout",
          "output_type": "stream",
          "text": [
            "ClearML Task: created new task id=eafaf353751a416fb9639bea8b4b54f3\n",
            "ClearML results page: https://app.clear.ml/projects/09a9b5f5920a4cff8953c41143a493a4/experiments/eafaf353751a416fb9639bea8b4b54f3/output/log\n"
          ]
        },
        {
          "name": "stderr",
          "output_type": "stream",
          "text": [
            "Parameters must be of builtin type (General/mean[ndarray], General/std[ndarray])\n",
            "GPU available: True (cuda), used: True\n",
            "TPU available: False, using: 0 TPU cores\n",
            "HPU available: False, using: 0 HPUs\n"
          ]
        },
        {
          "name": "stdout",
          "output_type": "stream",
          "text": [
            "Files already downloaded and verified\n",
            "Files already downloaded and verified\n",
            "Files already downloaded and verified\n"
          ]
        },
        {
          "name": "stderr",
          "output_type": "stream",
          "text": [
            "Seed set to 42\n"
          ]
        },
        {
          "name": "stdout",
          "output_type": "stream",
          "text": [
            "Loaded clean_label from ./data/CIFAR-10_human.pt.\n",
            "The overall noise rate is 0.0\n"
          ]
        },
        {
          "name": "stderr",
          "output_type": "stream",
          "text": [
            "c:\\Users\\dnbabkov\\anaconda3\\Lib\\site-packages\\pytorch_lightning\\callbacks\\model_checkpoint.py:654: UserWarning:\n",
            "\n",
            "Checkpoint directory C:\\Users\\dnbabkov\\Desktop\\Innopolis\\Computer Vision\\ДЗ\\saved_models exists and is not empty.\n",
            "\n",
            "LOCAL_RANK: 0 - CUDA_VISIBLE_DEVICES: [0]\n",
            "\n",
            "  | Name    | Type     | Params | Mode \n",
            "---------------------------------------------\n",
            "0 | model   | ResNet50 | 23.5 M | train\n",
            "1 | loss_fn | BLoss    | 0      | train\n",
            "---------------------------------------------\n",
            "23.5 M    Trainable params\n",
            "0         Non-trainable params\n",
            "23.5 M    Total params\n",
            "94.122    Total estimated model params size (MB)\n",
            "153       Modules in train mode\n",
            "0         Modules in eval mode\n"
          ]
        },
        {
          "data": {
            "application/vnd.jupyter.widget-view+json": {
              "model_id": "268057f970a04356b03b9d09bef61f3f",
              "version_major": 2,
              "version_minor": 0
            },
            "text/plain": [
              "Sanity Checking: |          | 0/? [00:00<?, ?it/s]"
            ]
          },
          "metadata": {},
          "output_type": "display_data"
        },
        {
          "name": "stderr",
          "output_type": "stream",
          "text": [
            "c:\\Users\\dnbabkov\\anaconda3\\Lib\\site-packages\\pytorch_lightning\\trainer\\connectors\\data_connector.py:424: PossibleUserWarning:\n",
            "\n",
            "The 'val_dataloader' does not have many workers which may be a bottleneck. Consider increasing the value of the `num_workers` argument` to `num_workers=15` in the `DataLoader` to improve performance.\n",
            "\n",
            "c:\\Users\\dnbabkov\\anaconda3\\Lib\\site-packages\\pytorch_lightning\\trainer\\connectors\\data_connector.py:424: PossibleUserWarning:\n",
            "\n",
            "The 'train_dataloader' does not have many workers which may be a bottleneck. Consider increasing the value of the `num_workers` argument` to `num_workers=15` in the `DataLoader` to improve performance.\n",
            "\n"
          ]
        },
        {
          "data": {
            "application/vnd.jupyter.widget-view+json": {
              "model_id": "da130678f29e4a0aa530a5a809315f5a",
              "version_major": 2,
              "version_minor": 0
            },
            "text/plain": [
              "Training: |          | 0/? [00:00<?, ?it/s]"
            ]
          },
          "metadata": {},
          "output_type": "display_data"
        },
        {
          "data": {
            "application/vnd.jupyter.widget-view+json": {
              "model_id": "14930c6dfd2c450ea35056484013d9d2",
              "version_major": 2,
              "version_minor": 0
            },
            "text/plain": [
              "Validation: |          | 0/? [00:00<?, ?it/s]"
            ]
          },
          "metadata": {},
          "output_type": "display_data"
        },
        {
          "data": {
            "application/vnd.jupyter.widget-view+json": {
              "model_id": "56c3782142c94d78957d83b863aecb49",
              "version_major": 2,
              "version_minor": 0
            },
            "text/plain": [
              "Validation: |          | 0/? [00:00<?, ?it/s]"
            ]
          },
          "metadata": {},
          "output_type": "display_data"
        },
        {
          "data": {
            "application/vnd.jupyter.widget-view+json": {
              "model_id": "e5be18892be14bc88b81608978c4379f",
              "version_major": 2,
              "version_minor": 0
            },
            "text/plain": [
              "Validation: |          | 0/? [00:00<?, ?it/s]"
            ]
          },
          "metadata": {},
          "output_type": "display_data"
        },
        {
          "name": "stdout",
          "output_type": "stream",
          "text": [
            "ClearML Monitor: Could not detect iteration reporting, falling back to iterations as seconds-from-start\n"
          ]
        },
        {
          "data": {
            "application/vnd.jupyter.widget-view+json": {
              "model_id": "44cfd98954994710b39f59e1e7c52c9d",
              "version_major": 2,
              "version_minor": 0
            },
            "text/plain": [
              "Validation: |          | 0/? [00:00<?, ?it/s]"
            ]
          },
          "metadata": {},
          "output_type": "display_data"
        },
        {
          "data": {
            "application/vnd.jupyter.widget-view+json": {
              "model_id": "4a5daf77f010497aaab31daf2e52b400",
              "version_major": 2,
              "version_minor": 0
            },
            "text/plain": [
              "Validation: |          | 0/? [00:00<?, ?it/s]"
            ]
          },
          "metadata": {},
          "output_type": "display_data"
        },
        {
          "data": {
            "application/vnd.jupyter.widget-view+json": {
              "model_id": "5c24ca83b06b4feabf4d808c145db359",
              "version_major": 2,
              "version_minor": 0
            },
            "text/plain": [
              "Validation: |          | 0/? [00:00<?, ?it/s]"
            ]
          },
          "metadata": {},
          "output_type": "display_data"
        },
        {
          "data": {
            "application/vnd.jupyter.widget-view+json": {
              "model_id": "7b92ed2eb4334f59bd9583aa1fc2c166",
              "version_major": 2,
              "version_minor": 0
            },
            "text/plain": [
              "Validation: |          | 0/? [00:00<?, ?it/s]"
            ]
          },
          "metadata": {},
          "output_type": "display_data"
        },
        {
          "data": {
            "application/vnd.jupyter.widget-view+json": {
              "model_id": "ef89d099384840feb3963d53856aee53",
              "version_major": 2,
              "version_minor": 0
            },
            "text/plain": [
              "Validation: |          | 0/? [00:00<?, ?it/s]"
            ]
          },
          "metadata": {},
          "output_type": "display_data"
        },
        {
          "data": {
            "application/vnd.jupyter.widget-view+json": {
              "model_id": "f8f7eea52b684e4c84597ab7bc126e3d",
              "version_major": 2,
              "version_minor": 0
            },
            "text/plain": [
              "Validation: |          | 0/? [00:00<?, ?it/s]"
            ]
          },
          "metadata": {},
          "output_type": "display_data"
        },
        {
          "data": {
            "application/vnd.jupyter.widget-view+json": {
              "model_id": "78501356005f4cccb22d8b859dd97302",
              "version_major": 2,
              "version_minor": 0
            },
            "text/plain": [
              "Validation: |          | 0/? [00:00<?, ?it/s]"
            ]
          },
          "metadata": {},
          "output_type": "display_data"
        },
        {
          "data": {
            "application/vnd.jupyter.widget-view+json": {
              "model_id": "d106139bb180401aba1311bd89b87d95",
              "version_major": 2,
              "version_minor": 0
            },
            "text/plain": [
              "Validation: |          | 0/? [00:00<?, ?it/s]"
            ]
          },
          "metadata": {},
          "output_type": "display_data"
        },
        {
          "data": {
            "application/vnd.jupyter.widget-view+json": {
              "model_id": "7ac2a567f79f4b8d8dc3cf6be6201d02",
              "version_major": 2,
              "version_minor": 0
            },
            "text/plain": [
              "Validation: |          | 0/? [00:00<?, ?it/s]"
            ]
          },
          "metadata": {},
          "output_type": "display_data"
        },
        {
          "data": {
            "application/vnd.jupyter.widget-view+json": {
              "model_id": "cef5a614811043b3a67432f89057cce7",
              "version_major": 2,
              "version_minor": 0
            },
            "text/plain": [
              "Validation: |          | 0/? [00:00<?, ?it/s]"
            ]
          },
          "metadata": {},
          "output_type": "display_data"
        },
        {
          "data": {
            "application/vnd.jupyter.widget-view+json": {
              "model_id": "974ab4e63402416fb928895efd27c80a",
              "version_major": 2,
              "version_minor": 0
            },
            "text/plain": [
              "Validation: |          | 0/? [00:00<?, ?it/s]"
            ]
          },
          "metadata": {},
          "output_type": "display_data"
        },
        {
          "data": {
            "application/vnd.jupyter.widget-view+json": {
              "model_id": "d35a1b9244a64b79ae22e6bf2ab92bad",
              "version_major": 2,
              "version_minor": 0
            },
            "text/plain": [
              "Validation: |          | 0/? [00:00<?, ?it/s]"
            ]
          },
          "metadata": {},
          "output_type": "display_data"
        },
        {
          "data": {
            "application/vnd.jupyter.widget-view+json": {
              "model_id": "d6b70ad2c34d45c2b3013c8185385596",
              "version_major": 2,
              "version_minor": 0
            },
            "text/plain": [
              "Validation: |          | 0/? [00:00<?, ?it/s]"
            ]
          },
          "metadata": {},
          "output_type": "display_data"
        },
        {
          "data": {
            "application/vnd.jupyter.widget-view+json": {
              "model_id": "6682cba602de4fbc9f263972cfd9ee53",
              "version_major": 2,
              "version_minor": 0
            },
            "text/plain": [
              "Validation: |          | 0/? [00:00<?, ?it/s]"
            ]
          },
          "metadata": {},
          "output_type": "display_data"
        },
        {
          "data": {
            "application/vnd.jupyter.widget-view+json": {
              "model_id": "9b9d2c81de1f42988e742fccb435cccf",
              "version_major": 2,
              "version_minor": 0
            },
            "text/plain": [
              "Validation: |          | 0/? [00:00<?, ?it/s]"
            ]
          },
          "metadata": {},
          "output_type": "display_data"
        },
        {
          "data": {
            "application/vnd.jupyter.widget-view+json": {
              "model_id": "2a55d484578c438da4343e1f2a2f0dd2",
              "version_major": 2,
              "version_minor": 0
            },
            "text/plain": [
              "Validation: |          | 0/? [00:00<?, ?it/s]"
            ]
          },
          "metadata": {},
          "output_type": "display_data"
        },
        {
          "data": {
            "application/vnd.jupyter.widget-view+json": {
              "model_id": "6b15ecadcf5d48f3866f1e544fecb81a",
              "version_major": 2,
              "version_minor": 0
            },
            "text/plain": [
              "Validation: |          | 0/? [00:00<?, ?it/s]"
            ]
          },
          "metadata": {},
          "output_type": "display_data"
        },
        {
          "name": "stderr",
          "output_type": "stream",
          "text": [
            "`Trainer.fit` stopped: `max_epochs=20` reached.\n",
            "c:\\Users\\dnbabkov\\anaconda3\\Lib\\site-packages\\pytorch_lightning\\utilities\\parsing.py:208: UserWarning:\n",
            "\n",
            "Attribute 'model' is an instance of `nn.Module` and is already saved during checkpointing. It is recommended to ignore them using `self.save_hyperparameters(ignore=['model'])`.\n",
            "\n",
            "c:\\Users\\dnbabkov\\anaconda3\\Lib\\site-packages\\pytorch_lightning\\utilities\\parsing.py:208: UserWarning:\n",
            "\n",
            "Attribute 'loss' is an instance of `nn.Module` and is already saved during checkpointing. It is recommended to ignore them using `self.save_hyperparameters(ignore=['loss'])`.\n",
            "\n"
          ]
        }
      ],
      "source": [
        "for seed in SEEDS:\n",
        "    # Set seed for reproducibility at the VERY BEGINNING\n",
        "    pl.seed_everything(seed)\n",
        "\n",
        "    # Reinitialize the model architecture for each seed\n",
        "    arch, loss_fn =  get_arch_and_loss(hparams)\n",
        "\n",
        "\n",
        "    checkpoint_callback_img = ModelCheckpoint(monitor='val_loss',\n",
        "                                              dirpath=CHECKPOINT_PATH,\n",
        "                                              filename=f'best_model_{ARCHITECTURE}_{LOSS_FUN}_{seed}_{LS}_{NOISE_TYPE}',\n",
        "                                              save_top_k=1,\n",
        "                                              mode='min')\n",
        "\n",
        "    task = Task.init(project_name=\"CV-2025-CIFAR\",\n",
        "                     task_name=f'arch_{ARCHITECTURE}_loss_{LOSS_FUN}_seed_{seed}_LS_{LS}_noise_{NOISE_TYPE}')\n",
        "\n",
        "    # Initialize the model with the reinitialized architecture\n",
        "    model = train_model(model=arch,loss=loss_fn)\n",
        "\n",
        "    # Log hyperparameters to ClearML\n",
        "    task.connect(model.hparams)\n",
        "\n",
        "    trainer = Trainer(max_epochs=hparams['num_epochs'],\n",
        "                      callbacks=[checkpoint_callback_img],\n",
        "                      accelerator='auto', devices='auto')\n",
        "    trainer.fit(model, data_module)\n",
        "\n",
        "    best_model_path = checkpoint_callback_img.best_model_path\n",
        "    task.update_output_model(model_path=best_model_path, auto_delete_file=False)\n",
        "    best_model = train_model.load_from_checkpoint(best_model_path,model = arch, loss=loss_fn)\n",
        "\n",
        "    # Test set\n",
        "    test_dataloader = data_module.test_dataloader()\n",
        "\n",
        "    # Move the model to the correct device\n",
        "    best_model = best_model.to(device)\n",
        "    predictions = []\n",
        "\n",
        "    # Evaluate model on the test set and save predictions\n",
        "    best_model.eval()\n",
        "    with torch.no_grad():\n",
        "        for batch in test_dataloader:\n",
        "            # Проверяем структуру batch\n",
        "            if isinstance(batch, (list, tuple)):\n",
        "                if len(batch) >= 2:\n",
        "                    inputs, labels = batch[:2]  # Берем первые два элемента\n",
        "                else:\n",
        "                    inputs = batch[0]  # Если batch содержит только 1 элемент\n",
        "                    labels = None  # Метки отсутствуют\n",
        "            else:\n",
        "                inputs = batch  # batch - это уже тензор\n",
        "                labels = None\n",
        "    \n",
        "            # Переносим данные на устройство (GPU/CPU)\n",
        "            inputs = inputs.to(device)\n",
        "    \n",
        "            # Получаем предсказания модели\n",
        "            outputs = best_model(inputs)\n",
        "            _, preds = torch.max(outputs, dim=1)  # Преобразуем логиты в метки классов\n",
        "    \n",
        "            # Сохраняем предсказания\n",
        "            predictions.extend(preds.cpu().numpy())\n",
        "\n",
        "    # Save predictions for this model\n",
        "    all_predictions.append(np.array(predictions))\n",
        "\n",
        "    if seed != SEEDS[-1]:\n",
        "        task.close()\n",
        "        del[model, best_model, task, arch, loss_fn]"
      ]
    },
    {
      "cell_type": "markdown",
      "metadata": {
        "id": "NYbuTthVuCDo"
      },
      "source": [
        "## Test the models and the ensemble of the models"
      ]
    },
    {
      "cell_type": "code",
      "execution_count": 89,
      "metadata": {
        "id": "zOYyF657_kOY"
      },
      "outputs": [
        {
          "data": {
            "text/plain": [
              "[array([3, 8, 0, ..., 5, 1, 7], dtype=int64),\n",
              " array([3, 8, 8, ..., 5, 1, 7], dtype=int64),\n",
              " array([3, 8, 8, ..., 5, 1, 7], dtype=int64),\n",
              " array([ 3,  8,  8, ...,  5, 10,  7], dtype=int64),\n",
              " array([3, 1, 8, ..., 5, 1, 7], dtype=int64),\n",
              " array([3, 1, 8, ..., 5, 1, 7], dtype=int64),\n",
              " array([3, 8, 8, ..., 5, 1, 7], dtype=int64)]"
            ]
          },
          "execution_count": 89,
          "metadata": {},
          "output_type": "execute_result"
        }
      ],
      "source": [
        "all_predictions"
      ]
    },
    {
      "cell_type": "markdown",
      "metadata": {
        "id": "yRxEnWceGYxn"
      },
      "source": [
        "Individual models"
      ]
    },
    {
      "cell_type": "code",
      "execution_count": 90,
      "metadata": {
        "id": "WSr0zvfIGeSd"
      },
      "outputs": [
        {
          "name": "stdout",
          "output_type": "stream",
          "text": [
            "Model 1 Accuracy: 0.7978\n",
            "Model 2 Accuracy: 0.8096\n",
            "Model 3 Accuracy: 0.8147\n",
            "Model 4 Accuracy: 0.8102\n",
            "Model 5 Accuracy: 0.8147\n",
            "Model 6 Accuracy: 0.8106\n",
            "Model 7 Accuracy: 0.8020\n",
            "Mean Accuracy: 0.8085\n",
            "Standard Deviation of Accuracy: 0.0059\n"
          ]
        }
      ],
      "source": [
        "# List to store individual model accuracies\n",
        "individual_accuracies = []\n",
        "\n",
        "# Compute accuracy for each model\n",
        "for i, predictions in enumerate(all_predictions):\n",
        "    # Get predictions for the current model\n",
        "    model_predictions = predictions  # Shape: (num_samples,)\n",
        "\n",
        "    # Get true labels (already collected earlier)\n",
        "    true_labels = np.array(data_module.cifar10_test.targets)\n",
        "\n",
        "    # Calculate accuracy for the current model\n",
        "    accuracy = accuracy_score(true_labels, model_predictions)\n",
        "    individual_accuracies.append(accuracy)\n",
        "    print(f'Model {i+1} Accuracy: {accuracy:.4f}')\n",
        "\n",
        "# Convert to numpy array for easier calculations\n",
        "individual_accuracies = np.array(individual_accuracies)\n",
        "\n",
        "# Compute mean accuracy\n",
        "mean_accuracy = np.mean(individual_accuracies)\n",
        "\n",
        "# Compute standard deviation of accuracy\n",
        "std_accuracy = np.std(individual_accuracies)\n",
        "\n",
        "print(f'Mean Accuracy: {mean_accuracy:.4f}')\n",
        "print(f'Standard Deviation of Accuracy: {std_accuracy:.4f}')"
      ]
    },
    {
      "cell_type": "markdown",
      "metadata": {
        "id": "iop73XibGhUv"
      },
      "source": [
        "Ensemble"
      ]
    },
    {
      "cell_type": "code",
      "execution_count": 91,
      "metadata": {
        "id": "xyUFGexws8QK"
      },
      "outputs": [
        {
          "name": "stdout",
          "output_type": "stream",
          "text": [
            "Ensemble Accuracy: 0.8583\n"
          ]
        }
      ],
      "source": [
        "# Stack predictions from all models\n",
        "all_predictions = np.stack(all_predictions)  # Shape: (num_models, num_samples, num_classes)\n",
        "\n",
        "# Ensemble predictions (e.g., by averaging)\n",
        "ensemble_predictions = np.mean(all_predictions, axis=0)  # Shape: (num_samples, num_classes)\n",
        "final_predictions, _ = mode(all_predictions, axis=0)  # Majority voting\n",
        "final_predictions = final_predictions.flatten()  # Flatten to 1D array\n",
        "\n",
        "# Get true labels from the CIFAR-10 data set\n",
        "test_labels = np.array(data_module.cifar10_test.targets)\n",
        "# test_labels = data_module.test_dataset.labels  # Adjust this based on your dataset\n",
        "\n",
        "# Calculate accuracy\n",
        "accuracy = accuracy_score(test_labels, final_predictions)\n",
        "print(f'Ensemble Accuracy: {accuracy:.4f}')\n",
        "\n",
        "# Compute confusion matrix\n",
        "cm = confusion_matrix(test_labels, final_predictions)"
      ]
    },
    {
      "cell_type": "code",
      "execution_count": 92,
      "metadata": {
        "id": "VbEGs97IgtRD"
      },
      "outputs": [
        {
          "name": "stderr",
          "output_type": "stream",
          "text": [
            "                                          0% | 0.00/269.73 MB [00:00<?, ?MB/s]: "
          ]
        },
        {
          "data": {
            "text/plain": [
              "{'Mean Accuracy (individual)': 0.8085142857142856,\n",
              " 'Standard Deviation of Accuracy (individual)': 0.005881309031020843,\n",
              " 'Ensemble Accuracy': 0.8583}"
            ]
          },
          "execution_count": 92,
          "metadata": {},
          "output_type": "execute_result"
        }
      ],
      "source": [
        "# Simulated test metrics\n",
        "test_metrics = {\n",
        "    \"Mean Accuracy (individual)\": mean_accuracy,\n",
        "    \"Standard Deviation of Accuracy (individual)\": std_accuracy,\n",
        "    \"Ensemble Accuracy\": accuracy,\n",
        "}\n",
        "\n",
        "task.connect(test_metrics)"
      ]
    },
    {
      "cell_type": "code",
      "execution_count": 93,
      "metadata": {
        "id": "nIqc-cspappI"
      },
      "outputs": [
        {
          "name": "stderr",
          "output_type": "stream",
          "text": [
            "█████████████████████████████ 100% | 269.73/269.73 MB [12:21<00:00,  2.85s/MB]: c:\\Users\\dnbabkov\\anaconda3\\Lib\\site-packages\\tqdm\\std.py:636: TqdmWarning:\n",
            "\n",
            "clamping frac to range [0, 1]\n",
            "\n",
            "█████████████████████████████ 100% | 269.73/269.73 MB [12:23<00:00,  2.76s/MB]: \n"
          ]
        }
      ],
      "source": [
        "task.close()"
      ]
    }
  ],
  "metadata": {
    "colab": {
      "gpuType": "T4",
      "provenance": []
    },
    "kernelspec": {
      "display_name": "base",
      "language": "python",
      "name": "python3"
    },
    "language_info": {
      "codemirror_mode": {
        "name": "ipython",
        "version": 3
      },
      "file_extension": ".py",
      "mimetype": "text/x-python",
      "name": "python",
      "nbconvert_exporter": "python",
      "pygments_lexer": "ipython3",
      "version": "3.12.4"
    },
    "widgets": {
      "application/vnd.jupyter.widget-state+json": {
        "13012a9efd274c74bbdf69696406fe4d": {
          "model_module": "@jupyter-widgets/base",
          "model_module_version": "1.2.0",
          "model_name": "LayoutModel",
          "state": {
            "_model_module": "@jupyter-widgets/base",
            "_model_module_version": "1.2.0",
            "_model_name": "LayoutModel",
            "_view_count": null,
            "_view_module": "@jupyter-widgets/base",
            "_view_module_version": "1.2.0",
            "_view_name": "LayoutView",
            "align_content": null,
            "align_items": null,
            "align_self": null,
            "border": null,
            "bottom": null,
            "display": null,
            "flex": "2",
            "flex_flow": null,
            "grid_area": null,
            "grid_auto_columns": null,
            "grid_auto_flow": null,
            "grid_auto_rows": null,
            "grid_column": null,
            "grid_gap": null,
            "grid_row": null,
            "grid_template_areas": null,
            "grid_template_columns": null,
            "grid_template_rows": null,
            "height": null,
            "justify_content": null,
            "justify_items": null,
            "left": null,
            "margin": null,
            "max_height": null,
            "max_width": null,
            "min_height": null,
            "min_width": null,
            "object_fit": null,
            "object_position": null,
            "order": null,
            "overflow": null,
            "overflow_x": null,
            "overflow_y": null,
            "padding": null,
            "right": null,
            "top": null,
            "visibility": null,
            "width": null
          }
        },
        "41a67280089c45e0a8b3ccc1f066e18e": {
          "model_module": "@jupyter-widgets/controls",
          "model_module_version": "1.5.0",
          "model_name": "HTMLModel",
          "state": {
            "_dom_classes": [],
            "_model_module": "@jupyter-widgets/controls",
            "_model_module_version": "1.5.0",
            "_model_name": "HTMLModel",
            "_view_count": null,
            "_view_module": "@jupyter-widgets/controls",
            "_view_module_version": "1.5.0",
            "_view_name": "HTMLView",
            "description": "",
            "description_tooltip": null,
            "layout": "IPY_MODEL_a3952667390a439989946f68eaef4a5c",
            "placeholder": "​",
            "style": "IPY_MODEL_79479df18b2c400ab3cd4f966da90921",
            "value": " 2/2 [00:09&lt;00:00,  0.21it/s]"
          }
        },
        "4ae6bc9db93f4de4bef28c8e2394a782": {
          "model_module": "@jupyter-widgets/controls",
          "model_module_version": "1.5.0",
          "model_name": "DescriptionStyleModel",
          "state": {
            "_model_module": "@jupyter-widgets/controls",
            "_model_module_version": "1.5.0",
            "_model_name": "DescriptionStyleModel",
            "_view_count": null,
            "_view_module": "@jupyter-widgets/base",
            "_view_module_version": "1.2.0",
            "_view_name": "StyleView",
            "description_width": ""
          }
        },
        "79479df18b2c400ab3cd4f966da90921": {
          "model_module": "@jupyter-widgets/controls",
          "model_module_version": "1.5.0",
          "model_name": "DescriptionStyleModel",
          "state": {
            "_model_module": "@jupyter-widgets/controls",
            "_model_module_version": "1.5.0",
            "_model_name": "DescriptionStyleModel",
            "_view_count": null,
            "_view_module": "@jupyter-widgets/base",
            "_view_module_version": "1.2.0",
            "_view_name": "StyleView",
            "description_width": ""
          }
        },
        "8c9df580faff41e78b470dd9c8a6cf73": {
          "model_module": "@jupyter-widgets/controls",
          "model_module_version": "1.5.0",
          "model_name": "HBoxModel",
          "state": {
            "_dom_classes": [],
            "_model_module": "@jupyter-widgets/controls",
            "_model_module_version": "1.5.0",
            "_model_name": "HBoxModel",
            "_view_count": null,
            "_view_module": "@jupyter-widgets/controls",
            "_view_module_version": "1.5.0",
            "_view_name": "HBoxView",
            "box_style": "",
            "children": [
              "IPY_MODEL_9af41908fe1b45b292d012a82fa00753",
              "IPY_MODEL_eb8e5d54edb94ba6b90b03652ce9c5bc",
              "IPY_MODEL_41a67280089c45e0a8b3ccc1f066e18e"
            ],
            "layout": "IPY_MODEL_9b85118e3dfa422586379d6b5d2d25e4"
          }
        },
        "9af41908fe1b45b292d012a82fa00753": {
          "model_module": "@jupyter-widgets/controls",
          "model_module_version": "1.5.0",
          "model_name": "HTMLModel",
          "state": {
            "_dom_classes": [],
            "_model_module": "@jupyter-widgets/controls",
            "_model_module_version": "1.5.0",
            "_model_name": "HTMLModel",
            "_view_count": null,
            "_view_module": "@jupyter-widgets/controls",
            "_view_module_version": "1.5.0",
            "_view_name": "HTMLView",
            "description": "",
            "description_tooltip": null,
            "layout": "IPY_MODEL_a0d5245166e94869b8df01bd4689e7f7",
            "placeholder": "​",
            "style": "IPY_MODEL_4ae6bc9db93f4de4bef28c8e2394a782",
            "value": "Sanity Checking DataLoader 0: 100%"
          }
        },
        "9b85118e3dfa422586379d6b5d2d25e4": {
          "model_module": "@jupyter-widgets/base",
          "model_module_version": "1.2.0",
          "model_name": "LayoutModel",
          "state": {
            "_model_module": "@jupyter-widgets/base",
            "_model_module_version": "1.2.0",
            "_model_name": "LayoutModel",
            "_view_count": null,
            "_view_module": "@jupyter-widgets/base",
            "_view_module_version": "1.2.0",
            "_view_name": "LayoutView",
            "align_content": null,
            "align_items": null,
            "align_self": null,
            "border": null,
            "bottom": null,
            "display": "inline-flex",
            "flex": null,
            "flex_flow": "row wrap",
            "grid_area": null,
            "grid_auto_columns": null,
            "grid_auto_flow": null,
            "grid_auto_rows": null,
            "grid_column": null,
            "grid_gap": null,
            "grid_row": null,
            "grid_template_areas": null,
            "grid_template_columns": null,
            "grid_template_rows": null,
            "height": null,
            "justify_content": null,
            "justify_items": null,
            "left": null,
            "margin": null,
            "max_height": null,
            "max_width": null,
            "min_height": null,
            "min_width": null,
            "object_fit": null,
            "object_position": null,
            "order": null,
            "overflow": null,
            "overflow_x": null,
            "overflow_y": null,
            "padding": null,
            "right": null,
            "top": null,
            "visibility": "hidden",
            "width": "100%"
          }
        },
        "a0d5245166e94869b8df01bd4689e7f7": {
          "model_module": "@jupyter-widgets/base",
          "model_module_version": "1.2.0",
          "model_name": "LayoutModel",
          "state": {
            "_model_module": "@jupyter-widgets/base",
            "_model_module_version": "1.2.0",
            "_model_name": "LayoutModel",
            "_view_count": null,
            "_view_module": "@jupyter-widgets/base",
            "_view_module_version": "1.2.0",
            "_view_name": "LayoutView",
            "align_content": null,
            "align_items": null,
            "align_self": null,
            "border": null,
            "bottom": null,
            "display": null,
            "flex": null,
            "flex_flow": null,
            "grid_area": null,
            "grid_auto_columns": null,
            "grid_auto_flow": null,
            "grid_auto_rows": null,
            "grid_column": null,
            "grid_gap": null,
            "grid_row": null,
            "grid_template_areas": null,
            "grid_template_columns": null,
            "grid_template_rows": null,
            "height": null,
            "justify_content": null,
            "justify_items": null,
            "left": null,
            "margin": null,
            "max_height": null,
            "max_width": null,
            "min_height": null,
            "min_width": null,
            "object_fit": null,
            "object_position": null,
            "order": null,
            "overflow": null,
            "overflow_x": null,
            "overflow_y": null,
            "padding": null,
            "right": null,
            "top": null,
            "visibility": null,
            "width": null
          }
        },
        "a3952667390a439989946f68eaef4a5c": {
          "model_module": "@jupyter-widgets/base",
          "model_module_version": "1.2.0",
          "model_name": "LayoutModel",
          "state": {
            "_model_module": "@jupyter-widgets/base",
            "_model_module_version": "1.2.0",
            "_model_name": "LayoutModel",
            "_view_count": null,
            "_view_module": "@jupyter-widgets/base",
            "_view_module_version": "1.2.0",
            "_view_name": "LayoutView",
            "align_content": null,
            "align_items": null,
            "align_self": null,
            "border": null,
            "bottom": null,
            "display": null,
            "flex": null,
            "flex_flow": null,
            "grid_area": null,
            "grid_auto_columns": null,
            "grid_auto_flow": null,
            "grid_auto_rows": null,
            "grid_column": null,
            "grid_gap": null,
            "grid_row": null,
            "grid_template_areas": null,
            "grid_template_columns": null,
            "grid_template_rows": null,
            "height": null,
            "justify_content": null,
            "justify_items": null,
            "left": null,
            "margin": null,
            "max_height": null,
            "max_width": null,
            "min_height": null,
            "min_width": null,
            "object_fit": null,
            "object_position": null,
            "order": null,
            "overflow": null,
            "overflow_x": null,
            "overflow_y": null,
            "padding": null,
            "right": null,
            "top": null,
            "visibility": null,
            "width": null
          }
        },
        "e3bf949ac2564b4b948874e28bbb9d57": {
          "model_module": "@jupyter-widgets/controls",
          "model_module_version": "1.5.0",
          "model_name": "ProgressStyleModel",
          "state": {
            "_model_module": "@jupyter-widgets/controls",
            "_model_module_version": "1.5.0",
            "_model_name": "ProgressStyleModel",
            "_view_count": null,
            "_view_module": "@jupyter-widgets/base",
            "_view_module_version": "1.2.0",
            "_view_name": "StyleView",
            "bar_color": null,
            "description_width": ""
          }
        },
        "eb8e5d54edb94ba6b90b03652ce9c5bc": {
          "model_module": "@jupyter-widgets/controls",
          "model_module_version": "1.5.0",
          "model_name": "FloatProgressModel",
          "state": {
            "_dom_classes": [],
            "_model_module": "@jupyter-widgets/controls",
            "_model_module_version": "1.5.0",
            "_model_name": "FloatProgressModel",
            "_view_count": null,
            "_view_module": "@jupyter-widgets/controls",
            "_view_module_version": "1.5.0",
            "_view_name": "ProgressView",
            "bar_style": "",
            "description": "",
            "description_tooltip": null,
            "layout": "IPY_MODEL_13012a9efd274c74bbdf69696406fe4d",
            "max": 2,
            "min": 0,
            "orientation": "horizontal",
            "style": "IPY_MODEL_e3bf949ac2564b4b948874e28bbb9d57",
            "value": 2
          }
        }
      }
    }
  },
  "nbformat": 4,
  "nbformat_minor": 0
}

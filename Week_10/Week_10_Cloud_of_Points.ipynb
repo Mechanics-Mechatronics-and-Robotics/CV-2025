{
  "nbformat": 4,
  "nbformat_minor": 0,
  "metadata": {
    "colab": {
      "provenance": [],
      "gpuType": "T4",
      "authorship_tag": "ABX9TyPL65T3ogejjJBF0xQtZ7jw",
      "include_colab_link": true
    },
    "kernelspec": {
      "name": "python3",
      "display_name": "Python 3"
    },
    "language_info": {
      "name": "python"
    },
    "accelerator": "GPU"
  },
  "cells": [
    {
      "cell_type": "markdown",
      "metadata": {
        "id": "view-in-github",
        "colab_type": "text"
      },
      "source": [
        "<a href=\"https://colab.research.google.com/github/Mechanics-Mechatronics-and-Robotics/CV-2025/blob/main/Week_10/Week_10_Cloud_of_Points.ipynb\" target=\"_parent\"><img src=\"https://colab.research.google.com/assets/colab-badge.svg\" alt=\"Open In Colab\"/></a>"
      ]
    },
    {
      "cell_type": "code",
      "source": [
        "#Install Dependencies\n",
        "!pip install -q torch-cluster -f https://data.pyg.org/whl/torch-2.6.0+cu124.html\n",
        "!pip install -q pytorch-lightning pytorch-metric-learning plotly"
      ],
      "metadata": {
        "colab": {
          "base_uri": "https://localhost:8080/"
        },
        "id": "vKrwFwbstJMS",
        "outputId": "47b4ba6b-ca01-4d7c-a3ec-ddb8fddf68a7"
      },
      "execution_count": null,
      "outputs": [
        {
          "output_type": "stream",
          "name": "stdout",
          "text": [
            "\u001b[?25l     \u001b[90m━━━━━━━━━━━━━━━━━━━━━━━━━━━━━━━━━━━━━━━━\u001b[0m \u001b[32m0.0/54.5 kB\u001b[0m \u001b[31m?\u001b[0m eta \u001b[36m-:--:--\u001b[0m\r\u001b[2K     \u001b[90m━━━━━━━━━━━━━━━━━━━━━━━━━━━━━━━━━━━━━━━━\u001b[0m \u001b[32m54.5/54.5 kB\u001b[0m \u001b[31m2.2 MB/s\u001b[0m eta \u001b[36m0:00:00\u001b[0m\n",
            "\u001b[?25h  Preparing metadata (setup.py) ... \u001b[?25l\u001b[?25hdone\n"
          ]
        }
      ]
    },
    {
      "cell_type": "code",
      "source": [
        "import torch\n",
        "import pytorch_lightning as pl\n",
        "from torch_geometric.data import DataLoader\n",
        "from torch_geometric.datasets import ModelNet\n",
        "from torch_geometric.nn import MLP, DynamicEdgeConv, global_max_pool\n",
        "from torch_geometric.transforms import SamplePoints, RandomJitter, RandomFlip, RandomShear, Compose\n",
        "from pytorch_metric_learning.losses import NTXentLoss\n",
        "import plotly.graph_objects as go\n",
        "from typing import Tuple"
      ],
      "metadata": {
        "id": "lky6wYhqtJI6"
      },
      "execution_count": null,
      "outputs": []
    },
    {
      "cell_type": "code",
      "source": [
        "class ModelNet10DataModule(pl.LightningDataModule):\n",
        "    def __init__(self, batch_size=32, num_points=1024):\n",
        "        super().__init__()\n",
        "        self.batch_size = batch_size\n",
        "        self.num_points = num_points\n",
        "        self.train_transform = Compose([\n",
        "            SamplePoints(num_points),\n",
        "            RandomJitter(0.03),\n",
        "            RandomFlip(1),\n",
        "            RandomShear(0.2)\n",
        "        ])\n",
        "        self.val_transform = SamplePoints(num_points)\n",
        "\n",
        "    def setup(self, stage=None):\n",
        "        self.train_dataset = ModelNet(\n",
        "            root='./ModelNet10',\n",
        "            name='10',\n",
        "            train=True,\n",
        "            transform=self.train_transform\n",
        "        )\n",
        "        self.val_dataset = ModelNet(\n",
        "            root='./ModelNet10',\n",
        "            name='10',\n",
        "            train=False,\n",
        "            transform=self.val_transform\n",
        "        )\n",
        "\n",
        "    def train_dataloader(self):\n",
        "        return DataLoader(self.train_dataset, batch_size=self.batch_size, shuffle=True, num_workers=2)\n",
        "\n",
        "    def val_dataloader(self):\n",
        "        return DataLoader(self.val_dataset, batch_size=self.batch_size, num_workers=2)"
      ],
      "metadata": {
        "id": "UodxLJvptJGS"
      },
      "execution_count": null,
      "outputs": []
    },
    {
      "cell_type": "code",
      "source": [
        "class PointCloudContrastive(pl.LightningModule):\n",
        "    def __init__(self, temperature=0.1, lr=1e-3):\n",
        "        super().__init__()\n",
        "        self.save_hyperparameters()\n",
        "\n",
        "        self.conv1 = DynamicEdgeConv(MLP([2 * 3, 64, 64]), k=20, aggr='max')\n",
        "        self.conv2 = DynamicEdgeConv(MLP([2 * 64, 128]), k=20, aggr='max')\n",
        "        self.projection_head = MLP([128 + 64, 256, 128], norm=None)\n",
        "        self.criterion = NTXentLoss(temperature=temperature)\n",
        "\n",
        "    def forward(self, data) -> torch.Tensor:\n",
        "        x1 = self.conv1(data.pos, data.batch)\n",
        "        x2 = self.conv2(x1, data.batch)\n",
        "        h_points = self.projection_head(torch.cat([x1, x2], dim=1))\n",
        "        return global_max_pool(h_points, data.batch)\n",
        "\n",
        "    def training_step(self, batch, batch_idx):\n",
        "        aug1 = batch.transform()\n",
        "        aug2 = batch.transform()\n",
        "        z1 = self(aug1)\n",
        "        z2 = self(aug2)\n",
        "        loss = self.criterion(z1, z2)\n",
        "        self.log('train_loss', loss, prog_bar=True)\n",
        "        return loss\n",
        "\n",
        "    def configure_optimizers(self):\n",
        "        optimizer = torch.optim.Adam(self.parameters(), lr=self.hparams.lr)\n",
        "        scheduler = torch.optim.lr_scheduler.StepLR(optimizer, step_size=20, gamma=0.5)\n",
        "        return [optimizer], [scheduler]"
      ],
      "metadata": {
        "id": "k-hHh3zItJDY"
      },
      "execution_count": null,
      "outputs": []
    },
    {
      "cell_type": "code",
      "source": [
        "def plot_point_cloud(pos: torch.Tensor, title: str = \"\"):\n",
        "    pos = pos.cpu().numpy()\n",
        "    fig = go.Figure(data=[go.Scatter3d(\n",
        "        x=pos[:,0], y=pos[:,1], z=pos[:,2],\n",
        "        mode='markers',\n",
        "        marker=dict(size=3, opacity=0.8, color=pos[:,2], colorscale='Viridis')\n",
        "    ])\n",
        "    fig.update_layout(\n",
        "        title=title,\n",
        "        scene=dict(xaxis_title='X', yaxis_title='Y', zaxis_title='Z'),\n",
        "        width=800,\n",
        "        height=600\n",
        "    )\n",
        "    fig.show()\n",
        "\n",
        "def visualize_augmentations(dataset, num_samples=3):\n",
        "    loader = DataLoader(dataset, batch_size=num_samples, shuffle=True)\n",
        "    batch = next(iter(loader))\n",
        "\n",
        "    print(\"Original samples:\")\n",
        "    for i in range(num_samples):\n",
        "        pos = batch.pos[batch.batch == i]\n",
        "        plot_point_cloud(pos, f\"Original Sample {i+1}\")\n",
        "\n",
        "    augmented = batch.transform()\n",
        "    print(\"\\nAugmented samples:\")\n",
        "    for i in range(num_samples):\n",
        "        pos = augmented.pos[augmented.batch == i]\n",
        "        plot_point_cloud(pos, f\"Augmented Sample {i+1}\")"
      ],
      "metadata": {
        "id": "PQMWy_autJAq"
      },
      "execution_count": null,
      "outputs": []
    },
    {
      "cell_type": "code",
      "source": [
        "if __name__ == \"__main__\":\n",
        "    dm = ModelNet10DataModule(batch_size=32)\n",
        "    model = PointCloudContrastive(lr=1e-3)\n",
        "\n",
        "    dm.setup()\n",
        "    visualize_augmentations(dm.train_dataset)\n",
        "\n",
        "    trainer = pl.Trainer(\n",
        "        max_epochs=100,\n",
        "        accelerator='auto',\n",
        "        devices=1,\n",
        "        log_every_n_steps=10\n",
        "    )\n",
        "    trainer.fit(model, dm)\n",
        "\n",
        "    torch.save(model.state_dict(), 'contrastive_model.pt')"
      ],
      "metadata": {
        "id": "FxSqtmz0tI95"
      },
      "execution_count": null,
      "outputs": []
    },
    {
      "cell_type": "code",
      "source": [],
      "metadata": {
        "id": "vfTf821ntI7Z"
      },
      "execution_count": null,
      "outputs": []
    },
    {
      "cell_type": "code",
      "source": [],
      "metadata": {
        "id": "fRRzhF8XtI44"
      },
      "execution_count": null,
      "outputs": []
    },
    {
      "cell_type": "code",
      "source": [],
      "metadata": {
        "id": "17vkkJQotI2Y"
      },
      "execution_count": null,
      "outputs": []
    },
    {
      "cell_type": "code",
      "source": [],
      "metadata": {
        "id": "MYVlvkjmtIz4"
      },
      "execution_count": null,
      "outputs": []
    },
    {
      "cell_type": "code",
      "source": [],
      "metadata": {
        "id": "KDgg54xLtIxY"
      },
      "execution_count": null,
      "outputs": []
    },
    {
      "cell_type": "code",
      "source": [],
      "metadata": {
        "id": "D6dkG0yEtIun"
      },
      "execution_count": null,
      "outputs": []
    },
    {
      "cell_type": "code",
      "source": [],
      "metadata": {
        "id": "zJgS0H3ItIr1"
      },
      "execution_count": null,
      "outputs": []
    },
    {
      "cell_type": "code",
      "source": [],
      "metadata": {
        "id": "ScgQ3ycQtIpH"
      },
      "execution_count": null,
      "outputs": []
    }
  ]
}
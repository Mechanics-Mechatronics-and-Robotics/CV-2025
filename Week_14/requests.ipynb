{
 "cells": [
  {
   "cell_type": "code",
   "execution_count": 1,
   "id": "edfbaaa7-9b41-45c8-95de-51c35ed8858b",
   "metadata": {},
   "outputs": [],
   "source": [
    "import requests "
   ]
  },
  {
   "cell_type": "code",
   "execution_count": 48,
   "id": "79b09d85-5421-42de-bebd-6d68fd3622d5",
   "metadata": {},
   "outputs": [
    {
     "data": {
      "text/plain": [
       "'{\"text\":\"How are you?\",\"sentiment_label\":\"NEGATIVE\",\"sentiment_score\":0.9706662893295288}'"
      ]
     },
     "execution_count": 48,
     "metadata": {},
     "output_type": "execute_result"
    }
   ],
   "source": [
    "r = requests.get('http://0.0.0.0:8000/sentiment', \n",
    "                 params={'text': 'How are you?'})\n",
    "r.text"
   ]
  },
  {
   "cell_type": "code",
   "execution_count": 53,
   "id": "3b528cf6-ea46-4ca3-9f6a-2e42a25d2705",
   "metadata": {},
   "outputs": [],
   "source": [
    "examples = ['Your cat looks cool',\n",
    "            'I want to go drink beer with you',\n",
    "            'Please help me next me time',\n",
    "            'How about getting rest right now?']"
   ]
  },
  {
   "cell_type": "code",
   "execution_count": 54,
   "id": "1cb7d0e5-68e6-4463-9b23-e14ef5dc41f8",
   "metadata": {},
   "outputs": [
    {
     "name": "stdout",
     "output_type": "stream",
     "text": [
      "{\"text\":\"Your cat looks cool\",\"sentiment_label\":\"POSITIVE\",\"sentiment_score\":0.9997387528419495}\n",
      "{\"text\":\"I want to go drink beer with you\",\"sentiment_label\":\"POSITIVE\",\"sentiment_score\":0.9950335025787354}\n",
      "{\"text\":\"Please help me next me time\",\"sentiment_label\":\"POSITIVE\",\"sentiment_score\":0.9361519813537598}\n",
      "{\"text\":\"How about getting rest right now?\",\"sentiment_label\":\"NEGATIVE\",\"sentiment_score\":0.9984363913536072}\n"
     ]
    }
   ],
   "source": [
    "for ex in examples:\n",
    "    r = requests.get('http://0.0.0.0:8000/sentiment', \n",
    "                     params={'text': ex})\n",
    "    print(r.text)"
   ]
  },
  {
   "cell_type": "markdown",
   "id": "43468009-9e9a-474d-90ef-a1256240399d",
   "metadata": {},
   "source": [
    "## Homework (2 points)"
   ]
  },
  {
   "cell_type": "markdown",
   "id": "3803f3e4-3532-4ca8-8c9c-cb5bcfb179af",
   "metadata": {},
   "source": [
    "**Choose model and image dataset to solve a classification problem. You are allowed to use any wrapper you want (FastApi, Streamlit, etc.). You need to provide a working app to show result for at least 5 images in a form {image_name, predicted_class, score).**\n",
    "\n",
    "**Requirements:**\n",
    "\n",
    "Upload a .zip archive to the Moodle where will be all the artifacts needed to deploy a model in the Docker as a service and python file with prediction examples."
   ]
  },
  {
   "cell_type": "code",
   "execution_count": 14,
   "id": "53928c67-ccb3-4484-a947-8343af5bb0ba",
   "metadata": {},
   "outputs": [],
   "source": [
    "# ** YOUR CODE **"
   ]
  },
  {
   "cell_type": "code",
   "execution_count": null,
   "id": "d7ea3d63-23f0-43d5-b52f-0cf061f43f01",
   "metadata": {},
   "outputs": [],
   "source": []
  }
 ],
 "metadata": {
  "kernelspec": {
   "display_name": "Python [conda env:base] *",
   "language": "python",
   "name": "conda-base-py"
  },
  "language_info": {
   "codemirror_mode": {
    "name": "ipython",
    "version": 3
   },
   "file_extension": ".py",
   "mimetype": "text/x-python",
   "name": "python",
   "nbconvert_exporter": "python",
   "pygments_lexer": "ipython3",
   "version": "3.12.2"
  }
 },
 "nbformat": 4,
 "nbformat_minor": 5
}
